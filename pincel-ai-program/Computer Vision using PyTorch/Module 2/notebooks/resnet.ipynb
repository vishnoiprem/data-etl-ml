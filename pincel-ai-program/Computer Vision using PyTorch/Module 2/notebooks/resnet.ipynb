{
 "cells": [
  {
   "cell_type": "code",
   "execution_count": 24,
   "id": "904afa69",
   "metadata": {
    "execution": {
     "iopub.execute_input": "2024-06-13T06:21:42.080189Z",
     "iopub.status.busy": "2024-06-13T06:21:42.079789Z",
     "iopub.status.idle": "2024-06-13T06:21:42.088040Z",
     "shell.execute_reply": "2024-06-13T06:21:42.087144Z",
     "shell.execute_reply.started": "2024-06-13T06:21:42.080159Z"
    }
   },
   "outputs": [
    {
     "data": {
      "text/plain": [
       "device(type='cuda')"
      ]
     },
     "execution_count": 24,
     "metadata": {},
     "output_type": "execute_result"
    }
   ],
   "source": [
    "# Import necessary libraries\n",
    "import torch\n",
    "import torch.nn as nn\n",
    "import torch.optim as optim\n",
    "from torchvision import datasets, transforms, models\n",
    "from torch.utils.data import DataLoader\n",
    "import matplotlib.pyplot as plt\n",
    "import numpy as np\n",
    "\n",
    "# Check if GPU is available\n",
    "device = torch.device('cuda' if torch.cuda.is_available() else 'cpu')\n",
    "device"
   ]
  },
  {
   "cell_type": "code",
   "execution_count": 28,
   "id": "c4feb254",
   "metadata": {
    "execution": {
     "iopub.execute_input": "2024-06-13T06:21:59.114262Z",
     "iopub.status.busy": "2024-06-13T06:21:59.113427Z",
     "iopub.status.idle": "2024-06-13T06:21:59.119595Z",
     "shell.execute_reply": "2024-06-13T06:21:59.118743Z",
     "shell.execute_reply.started": "2024-06-13T06:21:59.114234Z"
    }
   },
   "outputs": [],
   "source": [
    "# Define transformations for the training and validation sets\n",
    "transform = transforms.Compose([\n",
    "    transforms.Resize((224, 224)),\n",
    "    transforms.ToTensor(),\n",
    "    transforms.Normalize(mean=[0.485, 0.456, 0.406], std=[0.229, 0.224, 0.225])\n",
    "])"
   ]
  },
  {
   "cell_type": "code",
   "execution_count": 29,
   "id": "973cbbf4",
   "metadata": {
    "execution": {
     "iopub.execute_input": "2024-06-13T06:21:59.442804Z",
     "iopub.status.busy": "2024-06-13T06:21:59.442418Z",
     "iopub.status.idle": "2024-06-13T06:21:59.447180Z",
     "shell.execute_reply": "2024-06-13T06:21:59.446170Z",
     "shell.execute_reply.started": "2024-06-13T06:21:59.442774Z"
    }
   },
   "outputs": [],
   "source": [
    "# Paths to the data\n",
    "train_data_path = r'C:\\Users\\Praphul\\Downloads\\Human Action Recognition_New/train'\n",
    "test_data_path = r'C:\\Users\\Praphul\\Downloads\\Human Action Recognition_New/test'"
   ]
  },
  {
   "cell_type": "code",
   "execution_count": 30,
   "id": "ea1bb41c",
   "metadata": {
    "execution": {
     "iopub.execute_input": "2024-06-13T06:21:59.588337Z",
     "iopub.status.busy": "2024-06-13T06:21:59.587707Z",
     "iopub.status.idle": "2024-06-13T06:21:59.617936Z",
     "shell.execute_reply": "2024-06-13T06:21:59.617215Z",
     "shell.execute_reply.started": "2024-06-13T06:21:59.588310Z"
    }
   },
   "outputs": [],
   "source": [
    "#Apply the transforms to the train and test data\n",
    "train_data = datasets.ImageFolder(root=train_data_path, transform=transform)\n",
    "test_data = datasets.ImageFolder(root=test_data_path, transform=transform)"
   ]
  },
  {
   "cell_type": "code",
   "execution_count": 31,
   "id": "5ac8f97e",
   "metadata": {
    "execution": {
     "iopub.execute_input": "2024-06-13T06:21:59.723110Z",
     "iopub.status.busy": "2024-06-13T06:21:59.722369Z",
     "iopub.status.idle": "2024-06-13T06:21:59.727747Z",
     "shell.execute_reply": "2024-06-13T06:21:59.726875Z",
     "shell.execute_reply.started": "2024-06-13T06:21:59.723083Z"
    }
   },
   "outputs": [],
   "source": [
    "# Create DataLoader for training and test sets\n",
    "train_loader = DataLoader(train_data, batch_size=32, shuffle=True, num_workers=4)\n",
    "test_loader = DataLoader(test_data, batch_size=32, shuffle=False, num_workers=4)"
   ]
  },
  {
   "cell_type": "markdown",
   "id": "68320bdb",
   "metadata": {},
   "source": [
    "#### Run all the cells above till here."
   ]
  },
  {
   "cell_type": "markdown",
   "id": "b23e987e",
   "metadata": {
    "execution": {
     "iopub.execute_input": "2024-05-27T05:13:30.137378Z",
     "iopub.status.busy": "2024-05-27T05:13:30.136503Z",
     "iopub.status.idle": "2024-05-27T05:13:30.533084Z",
     "shell.execute_reply": "2024-05-27T05:13:30.531928Z",
     "shell.execute_reply.started": "2024-05-27T05:13:30.137345Z"
    }
   },
   "source": [
    "### Load the Pre-trained ResNet Model"
   ]
  },
  {
   "cell_type": "code",
   "execution_count": 36,
   "id": "fe349507",
   "metadata": {
    "execution": {
     "iopub.execute_input": "2024-06-13T06:24:44.983098Z",
     "iopub.status.busy": "2024-06-13T06:24:44.982762Z",
     "iopub.status.idle": "2024-06-13T06:24:45.585155Z",
     "shell.execute_reply": "2024-06-13T06:24:45.584172Z",
     "shell.execute_reply.started": "2024-06-13T06:24:44.983074Z"
    }
   },
   "outputs": [],
   "source": [
    "# Load the pre-trained ResNet model\n",
    "resnet = models.resnet50(pretrained=True)  # You can change to resnet18, resnet34, resnet101, etc. based on your requirement\n",
    "\n",
    "# Freeze all the feature extractor layers\n",
    "for param in resnet.parameters():\n",
    "    param.requires_grad = False\n",
    "\n",
    "# Modify the fully connected layer to match the number of classes (5 classes)\n",
    "num_features = resnet.fc.in_features\n",
    "resnet.fc = nn.Linear(num_features, 5)\n",
    "\n",
    "# Define the device\n",
    "device = torch.device(\"cuda\" if torch.cuda.is_available() else \"cpu\")\n",
    "\n",
    "# Move the model to the device\n",
    "model = resnet.to(device)\n",
    "\n",
    "# Define loss function and optimizer\n",
    "criterion = nn.CrossEntropyLoss()\n",
    "optimizer = optim.Adam(resnet.fc.parameters(), lr=0.001)"
   ]
  },
  {
   "cell_type": "code",
   "execution_count": 34,
   "id": "adf56359",
   "metadata": {
    "execution": {
     "iopub.execute_input": "2024-06-13T06:22:02.426892Z",
     "iopub.status.busy": "2024-06-13T06:22:02.426268Z",
     "iopub.status.idle": "2024-06-13T06:23:59.169215Z",
     "shell.execute_reply": "2024-06-13T06:23:59.167996Z",
     "shell.execute_reply.started": "2024-06-13T06:22:02.426859Z"
    }
   },
   "outputs": [
    {
     "name": "stdout",
     "output_type": "stream",
     "text": [
      "Epoch [1/20], Train Loss: 0.7098, Train Accuracy: 76.11%\n",
      "Test Loss: 0.3619, Test Accuracy: 89.84%\n",
      "Updated best model with accuracy: 89.84%\n",
      "Epoch [2/20], Train Loss: 0.3771, Train Accuracy: 87.79%\n",
      "Test Loss: 0.2984, Test Accuracy: 90.48%\n",
      "Updated best model with accuracy: 90.48%\n",
      "Epoch [3/20], Train Loss: 0.3196, Train Accuracy: 89.30%\n",
      "Test Loss: 0.2712, Test Accuracy: 90.63%\n",
      "Updated best model with accuracy: 90.63%\n",
      "Epoch [4/20], Train Loss: 0.3043, Train Accuracy: 88.85%\n",
      "Test Loss: 0.2961, Test Accuracy: 89.84%\n",
      "Epoch [5/20], Train Loss: 0.3122, Train Accuracy: 88.99%\n",
      "Test Loss: 0.3094, Test Accuracy: 88.57%\n",
      "Epoch [6/20], Train Loss: 0.2710, Train Accuracy: 90.34%\n",
      "Test Loss: 0.2816, Test Accuracy: 91.11%\n",
      "Epoch [7/20], Train Loss: 0.2602, Train Accuracy: 90.59%\n",
      "Test Loss: 0.2608, Test Accuracy: 90.48%\n",
      "Updated best model with accuracy: 90.48%\n",
      "Epoch [8/20], Train Loss: 0.2607, Train Accuracy: 91.34%\n",
      "Test Loss: 0.2719, Test Accuracy: 91.11%\n",
      "Epoch [9/20], Train Loss: 0.2562, Train Accuracy: 90.84%\n",
      "Test Loss: 0.2744, Test Accuracy: 89.84%\n",
      "Epoch [10/20], Train Loss: 0.2484, Train Accuracy: 90.92%\n",
      "Test Loss: 0.2827, Test Accuracy: 90.48%\n",
      "Epoch [11/20], Train Loss: 0.2426, Train Accuracy: 91.09%\n",
      "Test Loss: 0.2650, Test Accuracy: 91.59%\n",
      "Epoch [12/20], Train Loss: 0.2351, Train Accuracy: 91.43%\n",
      "Test Loss: 0.2767, Test Accuracy: 90.79%\n",
      "Epoch [13/20], Train Loss: 0.2129, Train Accuracy: 92.18%\n",
      "Test Loss: 0.2800, Test Accuracy: 90.16%\n",
      "Stopping early: no improvement after five consecutive epochs.\n"
     ]
    }
   ],
   "source": [
    "import matplotlib.pyplot as plt\n",
    "\n",
    "# Initialize the lists to store train and test loss for each epoch\n",
    "train_losses = []\n",
    "test_losses = []\n",
    "\n",
    "# Train the model\n",
    "num_epochs = 20\n",
    "best_loss = torch.inf\n",
    "patience = 5\n",
    "epochs_since_best = 0\n",
    "\n",
    "for epoch in range(num_epochs):\n",
    "    model.train()\n",
    "    running_loss = 0.0\n",
    "    correct = 0\n",
    "    total = 0\n",
    "\n",
    "    for images, labels in train_loader:\n",
    "        images, labels = images.to(device), labels.to(device)\n",
    "        optimizer.zero_grad()\n",
    "        outputs = model(images)\n",
    "        if isinstance(outputs, tuple):\n",
    "            outputs = outputs[0]  # For models that return auxiliary outputs\n",
    "        loss = criterion(outputs, labels)\n",
    "        loss.backward()\n",
    "        optimizer.step()\n",
    "        running_loss += loss.item()\n",
    "        _, predicted = outputs.max(1)\n",
    "        total += labels.size(0)\n",
    "        correct += predicted.eq(labels).sum().item()\n",
    "\n",
    "    train_loss = running_loss / len(train_loader)\n",
    "    train_losses.append(train_loss)  # Store the train loss for this epoch\n",
    "    train_accuracy = 100. * correct / total\n",
    "\n",
    "    print(f'Epoch [{epoch + 1}/{num_epochs}], '\n",
    "          f'Train Loss: {train_loss:.4f}, Train Accuracy: {train_accuracy:.2f}%')\n",
    "\n",
    "    # Evaluate on the test set\n",
    "    model.eval()\n",
    "    test_loss = 0.0\n",
    "    correct = 0\n",
    "    total = 0\n",
    "\n",
    "    with torch.no_grad():\n",
    "        for images, labels in test_loader:\n",
    "            images, labels = images.to(device), labels.to(device)\n",
    "            outputs = model(images)\n",
    "            if isinstance(outputs, tuple):\n",
    "                outputs = outputs[0]  # For models that return auxiliary outputs\n",
    "            loss = criterion(outputs, labels)\n",
    "            test_loss += loss.item()\n",
    "            _, predicted = outputs.max(1)\n",
    "            total += labels.size(0)\n",
    "            correct += predicted.eq(labels).sum().item()\n",
    "\n",
    "    test_loss /= len(test_loader)\n",
    "    test_losses.append(test_loss)  # Store the test loss for this epoch\n",
    "    test_accuracy = 100. * correct / total\n",
    "\n",
    "    print(f'Test Loss: {test_loss:.4f}, Test Accuracy: {test_accuracy:.2f}%')\n",
    "\n",
    "    # Check for best accuracy and stop if not improved after five more epochs\n",
    "    if test_loss < best_loss:\n",
    "        best_loss = test_loss\n",
    "        epochs_since_best = 0\n",
    "        torch.save(model.state_dict(), 'best_model.pth')  # Save the model\n",
    "        print(f'Updated best model with accuracy: {test_accuracy:.2f}%')\n",
    "    else:\n",
    "        epochs_since_best += 1\n",
    "        if epochs_since_best > patience:\n",
    "            print(\"Stopping early: no improvement after five consecutive epochs.\")\n",
    "            break"
   ]
  },
  {
   "cell_type": "markdown",
   "id": "cb9c4cd6",
   "metadata": {},
   "source": [
    "### Plot: Epochs vs Train Loss and Epochs vs Test Loss"
   ]
  },
  {
   "cell_type": "code",
   "execution_count": 39,
   "id": "5d2b7ead",
   "metadata": {
    "execution": {
     "iopub.execute_input": "2024-06-13T06:25:46.724179Z",
     "iopub.status.busy": "2024-06-13T06:25:46.723524Z",
     "iopub.status.idle": "2024-06-13T06:25:46.978110Z",
     "shell.execute_reply": "2024-06-13T06:25:46.977212Z",
     "shell.execute_reply.started": "2024-06-13T06:25:46.724146Z"
    }
   },
   "outputs": [
    {
     "data": {
      "image/png": "[encoded data removed]",
      "text/plain": [
       "<Figure size 640x480 with 1 Axes>"
      ]
     },
     "metadata": {},
     "output_type": "display_data"
    }
   ],
   "source": [
    "# Plotting the epochs vs training and test losses\n",
    "plt.plot(train_losses, label='Training Loss')\n",
    "plt.plot(test_losses, label='Test Loss')\n",
    "plt.xlabel('Epochs')\n",
    "plt.ylabel('Loss')\n",
    "plt.legend()\n",
    "plt.show()"
   ]
  },
  {
   "cell_type": "markdown",
   "id": "559b6d63",
   "metadata": {},
   "source": []
  },
  {
   "cell_type": "code",
   "execution_count": null,
   "id": "ce90d0d5",
   "metadata": {},
   "outputs": [],
   "source": []
  },
  {
   "cell_type": "code",
   "execution_count": null,
   "id": "ac4ca614",
   "metadata": {},
   "outputs": [],
   "source": []
  }
 ],
 "metadata": {
  "kaggle": {
   "accelerator": "gpu",
   "dataSources": [
    {
     "datasetId": 5190427,
     "sourceId": 8662681,
     "sourceType": "datasetVersion"
    }
   ],
   "dockerImageVersionId": 30699,
   "isGpuEnabled": true,
   "isInternetEnabled": true,
   "language": "python",
   "sourceType": "notebook"
  },
  "kernelspec": {
   "display_name": "Python 3 (ipykernel)",
   "language": "python",
   "name": "python3"
  },
  "language_info": {
   "codemirror_mode": {
    "name": "ipython",
    "version": 3
   },
   "file_extension": ".py",
   "mimetype": "text/x-python",
   "name": "python",
   "nbconvert_exporter": "python",
   "pygments_lexer": "ipython3",
   "version": "3.11.7"
  }
 },
 "nbformat": 4,
 "nbformat_minor": 5
}
