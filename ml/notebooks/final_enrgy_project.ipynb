{
 "cells": [
  {
   "cell_type": "code",
   "execution_count": null,
   "id": "initial_id",
   "metadata": {
    "collapsed": true
   },
   "outputs": [],
   "source": [
    ""
   ]
  },
  {
   "metadata": {},
   "cell_type": "markdown",
   "source": [
    "\t1.\tData Analysis with Pandas and Numpy:\n",
    "\t•\tWe’ll start by loading the Excel file using Pandas and exploring the data.\n",
    "\t•\tPerform some basic analysis to understand the structure of the dataset, identify missing values, and calculate summary statistics.\n",
    "\t•\tCreate a few visualizations using Matplotlib to uncover trends and patterns.\n",
    "\t"
   ],
   "id": "6e05d316c132b60d"
  },
  {
   "metadata": {},
   "cell_type": "code",
   "outputs": [],
   "execution_count": null,
   "source": "",
   "id": "b29527aad5d13847"
  },
  {
   "metadata": {},
   "cell_type": "markdown",
   "source": [
    "\t2.\tMachine Learning:\n",
    "\t•\tIf the data is suitable, we can proceed to build a machine learning model. This can involve:\n",
    "\t•\tSupervised Learning: Models like Linear Regression, Classification, etc., if the dataset contains labels.\n",
    "\t•\tUnsupervised Learning: Clustering techniques like K-Means, PCA, etc., for identifying underlying patterns if the data is unlabeled.\n",
    "\t"
   ],
   "id": "58afba84c278c697"
  },
  {
   "metadata": {},
   "cell_type": "markdown",
   "source": "",
   "id": "adad1d41f67ec8f4"
  },
  {
   "metadata": {},
   "cell_type": "markdown",
   "source": [
    "\t3.\tData Visualization:\n",
    "\t•\tGenerate different types of plots like histograms, scatter plots, line plots, and correlation matrices to visualize the relationships between variables.\n",
    "\t"
   ],
   "id": "694c81ca51045204"
  },
  {
   "metadata": {},
   "cell_type": "markdown",
   "source": "Step 1: Initial Data Exploration\n",
   "id": "8bb075ff9536d9b8"
  },
  {
   "metadata": {},
   "cell_type": "markdown",
   "source": "",
   "id": "be710c38b3946fc6"
  },
  {
   "metadata": {},
   "cell_type": "markdown",
   "source": "Read the file",
   "id": "770425d72e59b5ba"
  },
  {
   "metadata": {},
   "cell_type": "markdown",
   "source": "",
   "id": "3cde7f10e3b341f1"
  },
  {
   "metadata": {
    "ExecuteTime": {
     "end_time": "2024-09-28T14:02:44.791480Z",
     "start_time": "2024-09-28T14:02:44.732577Z"
    }
   },
   "cell_type": "code",
   "source": [
    "# Step 1: Import Necessary Libraries\n",
    "import pandas as pd\n",
    "import seaborn as sns\n",
    "import matplotlib.pyplot as plt\n",
    "from sklearn.model_selection import train_test_split\n",
    "from sklearn.linear_model import LinearRegression\n",
    "from sklearn.metrics import mean_squared_error, r2_score\n",
    "from sklearn.preprocessing import LabelEncoder\n",
    "\n",
    "# Step 2: Load Data from the \"Data\" Sheet\n",
    "file_path = \"Final_energy_data_25.9.24.xlsx\"\n",
    "data_df = pd.read_excel(file_path, sheet_name='Data')\n",
    "\n",
    "# Step 3: Display Columns and Check for Missing Values\n",
    "print(\"Columns in the dataset:\\n\", data_df.columns)\n",
    "print(\"Missing Values:\\n\", data_df.isnull().sum())\n",
    "\n",
    "# Step 4: Check if Columns Exist Before Dropping\n",
    "columns_to_drop = ['COUNTR', 'Country Code']\n",
    "existing_columns_to_drop = [col for col in columns_to_drop if col in data_df.columns]\n",
    "\n",
    "# Drop columns only if they exist in the dataframe\n",
    "if existing_columns_to_drop:\n",
    "    data_df = data_df.drop(existing_columns_to_drop, axis=1)\n",
    "    print(f\"Columns {existing_columns_to_drop} dropped successfully.\")\n",
    "else:\n",
    "    print(f\"Columns {columns_to_drop} not found in the dataset.\")\n",
    "\n",
    "# Step 5: Convert or Encode Non-Numeric Columns\n",
    "# Identify columns with non-numeric values\n",
    "non_numeric_columns = data_df.select_dtypes(include=['object']).columns\n",
    "print(\"Non-numeric Columns:\", non_numeric_columns)\n",
    "\n",
    "# Encode each non-numeric column using LabelEncoder\n",
    "label_encoder = LabelEncoder()\n",
    "for column in non_numeric_columns:\n",
    "    data_df[column] = label_encoder.fit_transform(data_df[column])\n",
    "\n",
    "# Step 6: Exploratory Data Analysis\n",
    "# Display summary​⬤"
   ],
   "id": "82e9657324e7861a",
   "outputs": [
    {
     "name": "stdout",
     "output_type": "stream",
     "text": [
      "Columns in the dataset:\n",
      " Index(['COUNTR', 'Country Code', 'Year', 'GDP', 'EPROD', 'CAPF', 'CAPS',\n",
      "       'EITNS', 'COAL_ECONS', 'NATG_ECONS', 'OIL_ECONS', 'REW_ECONS',\n",
      "       'TOTAL_ECONS', 'ELEC_CONS', 'POP', 'EIMPR'],\n",
      "      dtype='object')\n",
      "Missing Values:\n",
      " COUNTR          0\n",
      "Country Code    0\n",
      "Year            0\n",
      "GDP             0\n",
      "EPROD           0\n",
      "CAPF            0\n",
      "CAPS            0\n",
      "EITNS           0\n",
      "COAL_ECONS      0\n",
      "NATG_ECONS      0\n",
      "OIL_ECONS       0\n",
      "REW_ECONS       0\n",
      "TOTAL_ECONS     0\n",
      "ELEC_CONS       0\n",
      "POP             0\n",
      "EIMPR           0\n",
      "dtype: int64\n",
      "Columns ['COUNTR', 'Country Code'] dropped successfully.\n",
      "Non-numeric Columns: Index([], dtype='object')\n"
     ]
    }
   ],
   "execution_count": 27
  },
  {
   "metadata": {
    "ExecuteTime": {
     "end_time": "2024-09-28T13:54:20.844538Z",
     "start_time": "2024-09-28T13:54:20.834233Z"
    }
   },
   "cell_type": "code",
   "source": "data_df.head()\n",
   "id": "a2b0e1786e1c44c4",
   "outputs": [
    {
     "data": {
      "text/plain": [
       "              COUNTR Country Code  Year       GDP      EPROD       CAPF  \\\n",
       "0  Brunei Darussalam          BRN  1995  1.976922  12.644170  36.661699   \n",
       "1  Brunei Darussalam          BRN  1996  0.493136  12.922198  41.314294   \n",
       "2  Brunei Darussalam          BRN  1997 -3.679156  12.327908  35.493067   \n",
       "3  Brunei Darussalam          BRN  1998 -2.713190  12.310974  33.805310   \n",
       "4  Brunei Darussalam          BRN  1999  0.880167  12.442648  21.380018   \n",
       "\n",
       "       CAPS  EITNS  COAL_ECONS  NATG_ECONS  OIL_ECONS  REW_ECONS  TOTAL_ECONS  \\\n",
       "0  0.546888   4.34   -0.000007    0.039536   0.022379   0.000007     0.061915   \n",
       "1  0.546888   4.34   -0.000007    0.031788   0.025875   0.000007     0.057663   \n",
       "2  0.546888   4.34   -0.000007    0.035863   0.025803   0.000007     0.061666   \n",
       "3  0.546888   4.34   -0.000007    0.030973   0.024801   0.000007     0.055774   \n",
       "4  0.546888   4.34   -0.000007    0.038454   0.027352   0.000007     0.065806   \n",
       "\n",
       "   ELEC_CONS       POP       EIMPR  \n",
       "0      1.779  2.423676 -711.789337  \n",
       "1      1.953  2.345748 -681.187465  \n",
       "2      2.234  2.266444 -651.149478  \n",
       "3      2.324  2.190603 -629.187508  \n",
       "4      2.260  2.130189 -683.452774  "
      ],
      "text/html": [
       "<div>\n",
       "<style scoped>\n",
       "    .dataframe tbody tr th:only-of-type {\n",
       "        vertical-align: middle;\n",
       "    }\n",
       "\n",
       "    .dataframe tbody tr th {\n",
       "        vertical-align: top;\n",
       "    }\n",
       "\n",
       "    .dataframe thead th {\n",
       "        text-align: right;\n",
       "    }\n",
       "</style>\n",
       "<table border=\"1\" class=\"dataframe\">\n",
       "  <thead>\n",
       "    <tr style=\"text-align: right;\">\n",
       "      <th></th>\n",
       "      <th>COUNTR</th>\n",
       "      <th>Country Code</th>\n",
       "      <th>Year</th>\n",
       "      <th>GDP</th>\n",
       "      <th>EPROD</th>\n",
       "      <th>CAPF</th>\n",
       "      <th>CAPS</th>\n",
       "      <th>EITNS</th>\n",
       "      <th>COAL_ECONS</th>\n",
       "      <th>NATG_ECONS</th>\n",
       "      <th>OIL_ECONS</th>\n",
       "      <th>REW_ECONS</th>\n",
       "      <th>TOTAL_ECONS</th>\n",
       "      <th>ELEC_CONS</th>\n",
       "      <th>POP</th>\n",
       "      <th>EIMPR</th>\n",
       "    </tr>\n",
       "  </thead>\n",
       "  <tbody>\n",
       "    <tr>\n",
       "      <th>0</th>\n",
       "      <td>Brunei Darussalam</td>\n",
       "      <td>BRN</td>\n",
       "      <td>1995</td>\n",
       "      <td>1.976922</td>\n",
       "      <td>12.644170</td>\n",
       "      <td>36.661699</td>\n",
       "      <td>0.546888</td>\n",
       "      <td>4.34</td>\n",
       "      <td>-0.000007</td>\n",
       "      <td>0.039536</td>\n",
       "      <td>0.022379</td>\n",
       "      <td>0.000007</td>\n",
       "      <td>0.061915</td>\n",
       "      <td>1.779</td>\n",
       "      <td>2.423676</td>\n",
       "      <td>-711.789337</td>\n",
       "    </tr>\n",
       "    <tr>\n",
       "      <th>1</th>\n",
       "      <td>Brunei Darussalam</td>\n",
       "      <td>BRN</td>\n",
       "      <td>1996</td>\n",
       "      <td>0.493136</td>\n",
       "      <td>12.922198</td>\n",
       "      <td>41.314294</td>\n",
       "      <td>0.546888</td>\n",
       "      <td>4.34</td>\n",
       "      <td>-0.000007</td>\n",
       "      <td>0.031788</td>\n",
       "      <td>0.025875</td>\n",
       "      <td>0.000007</td>\n",
       "      <td>0.057663</td>\n",
       "      <td>1.953</td>\n",
       "      <td>2.345748</td>\n",
       "      <td>-681.187465</td>\n",
       "    </tr>\n",
       "    <tr>\n",
       "      <th>2</th>\n",
       "      <td>Brunei Darussalam</td>\n",
       "      <td>BRN</td>\n",
       "      <td>1997</td>\n",
       "      <td>-3.679156</td>\n",
       "      <td>12.327908</td>\n",
       "      <td>35.493067</td>\n",
       "      <td>0.546888</td>\n",
       "      <td>4.34</td>\n",
       "      <td>-0.000007</td>\n",
       "      <td>0.035863</td>\n",
       "      <td>0.025803</td>\n",
       "      <td>0.000007</td>\n",
       "      <td>0.061666</td>\n",
       "      <td>2.234</td>\n",
       "      <td>2.266444</td>\n",
       "      <td>-651.149478</td>\n",
       "    </tr>\n",
       "    <tr>\n",
       "      <th>3</th>\n",
       "      <td>Brunei Darussalam</td>\n",
       "      <td>BRN</td>\n",
       "      <td>1998</td>\n",
       "      <td>-2.713190</td>\n",
       "      <td>12.310974</td>\n",
       "      <td>33.805310</td>\n",
       "      <td>0.546888</td>\n",
       "      <td>4.34</td>\n",
       "      <td>-0.000007</td>\n",
       "      <td>0.030973</td>\n",
       "      <td>0.024801</td>\n",
       "      <td>0.000007</td>\n",
       "      <td>0.055774</td>\n",
       "      <td>2.324</td>\n",
       "      <td>2.190603</td>\n",
       "      <td>-629.187508</td>\n",
       "    </tr>\n",
       "    <tr>\n",
       "      <th>4</th>\n",
       "      <td>Brunei Darussalam</td>\n",
       "      <td>BRN</td>\n",
       "      <td>1999</td>\n",
       "      <td>0.880167</td>\n",
       "      <td>12.442648</td>\n",
       "      <td>21.380018</td>\n",
       "      <td>0.546888</td>\n",
       "      <td>4.34</td>\n",
       "      <td>-0.000007</td>\n",
       "      <td>0.038454</td>\n",
       "      <td>0.027352</td>\n",
       "      <td>0.000007</td>\n",
       "      <td>0.065806</td>\n",
       "      <td>2.260</td>\n",
       "      <td>2.130189</td>\n",
       "      <td>-683.452774</td>\n",
       "    </tr>\n",
       "  </tbody>\n",
       "</table>\n",
       "</div>"
      ]
     },
     "execution_count": 16,
     "metadata": {},
     "output_type": "execute_result"
    }
   ],
   "execution_count": 16
  },
  {
   "metadata": {
    "ExecuteTime": {
     "end_time": "2024-09-28T13:54:22.073508Z",
     "start_time": "2024-09-28T13:54:22.069234Z"
    }
   },
   "cell_type": "code",
   "source": "data_df.columns",
   "id": "eb404564aa650914",
   "outputs": [
    {
     "data": {
      "text/plain": [
       "Index(['COUNTR', 'Country Code', 'Year', 'GDP', 'EPROD', 'CAPF', 'CAPS',\n",
       "       'EITNS', 'COAL_ECONS', 'NATG_ECONS', 'OIL_ECONS', 'REW_ECONS',\n",
       "       'TOTAL_ECONS', 'ELEC_CONS', 'POP', 'EIMPR'],\n",
       "      dtype='object')"
      ]
     },
     "execution_count": 17,
     "metadata": {},
     "output_type": "execute_result"
    }
   ],
   "execution_count": 17
  },
  {
   "metadata": {
    "ExecuteTime": {
     "end_time": "2024-09-28T13:54:23.173157Z",
     "start_time": "2024-09-28T13:54:23.169654Z"
    }
   },
   "cell_type": "code",
   "source": "print(\"Missing Values:\\n\", data_df.isnull().sum())\n",
   "id": "686eddae4c68b30b",
   "outputs": [
    {
     "name": "stdout",
     "output_type": "stream",
     "text": [
      "Missing Values:\n",
      " COUNTR          0\n",
      "Country Code    0\n",
      "Year            0\n",
      "GDP             0\n",
      "EPROD           0\n",
      "CAPF            0\n",
      "CAPS            0\n",
      "EITNS           0\n",
      "COAL_ECONS      0\n",
      "NATG_ECONS      0\n",
      "OIL_ECONS       0\n",
      "REW_ECONS       0\n",
      "TOTAL_ECONS     0\n",
      "ELEC_CONS       0\n",
      "POP             0\n",
      "EIMPR           0\n",
      "dtype: int64\n"
     ]
    }
   ],
   "execution_count": 18
  },
  {
   "metadata": {},
   "cell_type": "code",
   "outputs": [],
   "execution_count": null,
   "source": "",
   "id": "8b8e68f22e23c26d"
  },
  {
   "metadata": {
    "ExecuteTime": {
     "end_time": "2024-09-28T13:54:36.594707Z",
     "start_time": "2024-09-28T13:54:36.579352Z"
    }
   },
   "cell_type": "code",
   "source": [
    "# Step 4: Exploratory Data Analysis\n",
    "# Display summary statistics\n",
    "print(\"\\nSummary Statistics:\\n\", data_df.describe())"
   ],
   "id": "305f274f4e730075",
   "outputs": [
    {
     "name": "stdout",
     "output_type": "stream",
     "text": [
      "\n",
      "Summary Statistics:\n",
      "               Year         GDP       EPROD        CAPF        CAPS  \\\n",
      "count   260.000000  260.000000  260.000000  260.000000  260.000000   \n",
      "mean   2007.500000    3.627829   10.690599   25.322459    3.901258   \n",
      "std       7.514465    3.967153    3.447729    6.997251    3.847715   \n",
      "min    1995.000000  -14.475651    3.471582   10.437402    0.003014   \n",
      "25%    2001.000000    2.315568    8.521669   19.573424    1.074415   \n",
      "50%    2007.500000    4.329454   10.069162   24.502461    2.669317   \n",
      "75%    2014.000000    5.679885   11.999296   30.335945    5.321456   \n",
      "max    2020.000000   12.766646   21.290925   43.639902   18.633839   \n",
      "\n",
      "            EITNS  COAL_ECONS  NATG_ECONS   OIL_ECONS   REW_ECONS  \\\n",
      "count  260.000000  260.000000  260.000000  260.000000  260.000000   \n",
      "mean     4.627244    0.299858    0.452439    0.970006    0.047472   \n",
      "std      1.484828    0.474560    0.533207    1.014508    0.064898   \n",
      "min      2.130000   -0.000007    0.000342    0.004344   -0.015170   \n",
      "25%      3.677500    0.001309    0.113046    0.047394    0.005482   \n",
      "50%      4.400000    0.069172    0.134185    0.687393    0.024506   \n",
      "75%      5.157500    0.451422    0.741461    1.626961    0.063337   \n",
      "max     10.440000    2.772721    1.941089    3.276573    0.327671   \n",
      "\n",
      "       TOTAL_ECONS   ELEC_CONS         POP       EIMPR  \n",
      "count   260.000000  260.000000  260.000000  260.000000  \n",
      "mean      1.747167   57.939703    1.484787  -50.086033  \n",
      "std       1.849831   64.491832    0.711188  187.251560  \n",
      "min       0.006196    0.159000   -1.474533 -849.555212  \n",
      "25%       0.147706    3.673500    1.028149  -50.338570  \n",
      "50%       1.108977   38.662500    1.419663   12.854694  \n",
      "75%       3.063038   91.061650    1.785386   41.418623  \n",
      "max       7.743780  259.142800    5.321517   99.085308  \n"
     ]
    }
   ],
   "execution_count": 19
  },
  {
   "metadata": {},
   "cell_type": "code",
   "outputs": [],
   "execution_count": null,
   "source": "",
   "id": "db2f7c8a62da7493"
  },
  {
   "metadata": {
    "ExecuteTime": {
     "end_time": "2024-09-28T14:02:58.518694Z",
     "start_time": "2024-09-28T14:02:58.508484Z"
    }
   },
   "cell_type": "code",
   "source": [
    "# Drop unnecessary columns for the model (like 'COUNTR' and 'Country Code')\n",
    "# data_df = data_df.drop(['COUNTR', 'Country Code'], axis=1)\n",
    "data_df.head()\n"
   ],
   "id": "4a053a6f256dd700",
   "outputs": [
    {
     "data": {
      "text/plain": [
       "   Year       GDP      EPROD       CAPF      CAPS  EITNS  COAL_ECONS  \\\n",
       "0  1995  1.976922  12.644170  36.661699  0.546888   4.34   -0.000007   \n",
       "1  1996  0.493136  12.922198  41.314294  0.546888   4.34   -0.000007   \n",
       "2  1997 -3.679156  12.327908  35.493067  0.546888   4.34   -0.000007   \n",
       "3  1998 -2.713190  12.310974  33.805310  0.546888   4.34   -0.000007   \n",
       "4  1999  0.880167  12.442648  21.380018  0.546888   4.34   -0.000007   \n",
       "\n",
       "   NATG_ECONS  OIL_ECONS  REW_ECONS  TOTAL_ECONS  ELEC_CONS       POP  \\\n",
       "0    0.039536   0.022379   0.000007     0.061915      1.779  2.423676   \n",
       "1    0.031788   0.025875   0.000007     0.057663      1.953  2.345748   \n",
       "2    0.035863   0.025803   0.000007     0.061666      2.234  2.266444   \n",
       "3    0.030973   0.024801   0.000007     0.055774      2.324  2.190603   \n",
       "4    0.038454   0.027352   0.000007     0.065806      2.260  2.130189   \n",
       "\n",
       "        EIMPR  \n",
       "0 -711.789337  \n",
       "1 -681.187465  \n",
       "2 -651.149478  \n",
       "3 -629.187508  \n",
       "4 -683.452774  "
      ],
      "text/html": [
       "<div>\n",
       "<style scoped>\n",
       "    .dataframe tbody tr th:only-of-type {\n",
       "        vertical-align: middle;\n",
       "    }\n",
       "\n",
       "    .dataframe tbody tr th {\n",
       "        vertical-align: top;\n",
       "    }\n",
       "\n",
       "    .dataframe thead th {\n",
       "        text-align: right;\n",
       "    }\n",
       "</style>\n",
       "<table border=\"1\" class=\"dataframe\">\n",
       "  <thead>\n",
       "    <tr style=\"text-align: right;\">\n",
       "      <th></th>\n",
       "      <th>Year</th>\n",
       "      <th>GDP</th>\n",
       "      <th>EPROD</th>\n",
       "      <th>CAPF</th>\n",
       "      <th>CAPS</th>\n",
       "      <th>EITNS</th>\n",
       "      <th>COAL_ECONS</th>\n",
       "      <th>NATG_ECONS</th>\n",
       "      <th>OIL_ECONS</th>\n",
       "      <th>REW_ECONS</th>\n",
       "      <th>TOTAL_ECONS</th>\n",
       "      <th>ELEC_CONS</th>\n",
       "      <th>POP</th>\n",
       "      <th>EIMPR</th>\n",
       "    </tr>\n",
       "  </thead>\n",
       "  <tbody>\n",
       "    <tr>\n",
       "      <th>0</th>\n",
       "      <td>1995</td>\n",
       "      <td>1.976922</td>\n",
       "      <td>12.644170</td>\n",
       "      <td>36.661699</td>\n",
       "      <td>0.546888</td>\n",
       "      <td>4.34</td>\n",
       "      <td>-0.000007</td>\n",
       "      <td>0.039536</td>\n",
       "      <td>0.022379</td>\n",
       "      <td>0.000007</td>\n",
       "      <td>0.061915</td>\n",
       "      <td>1.779</td>\n",
       "      <td>2.423676</td>\n",
       "      <td>-711.789337</td>\n",
       "    </tr>\n",
       "    <tr>\n",
       "      <th>1</th>\n",
       "      <td>1996</td>\n",
       "      <td>0.493136</td>\n",
       "      <td>12.922198</td>\n",
       "      <td>41.314294</td>\n",
       "      <td>0.546888</td>\n",
       "      <td>4.34</td>\n",
       "      <td>-0.000007</td>\n",
       "      <td>0.031788</td>\n",
       "      <td>0.025875</td>\n",
       "      <td>0.000007</td>\n",
       "      <td>0.057663</td>\n",
       "      <td>1.953</td>\n",
       "      <td>2.345748</td>\n",
       "      <td>-681.187465</td>\n",
       "    </tr>\n",
       "    <tr>\n",
       "      <th>2</th>\n",
       "      <td>1997</td>\n",
       "      <td>-3.679156</td>\n",
       "      <td>12.327908</td>\n",
       "      <td>35.493067</td>\n",
       "      <td>0.546888</td>\n",
       "      <td>4.34</td>\n",
       "      <td>-0.000007</td>\n",
       "      <td>0.035863</td>\n",
       "      <td>0.025803</td>\n",
       "      <td>0.000007</td>\n",
       "      <td>0.061666</td>\n",
       "      <td>2.234</td>\n",
       "      <td>2.266444</td>\n",
       "      <td>-651.149478</td>\n",
       "    </tr>\n",
       "    <tr>\n",
       "      <th>3</th>\n",
       "      <td>1998</td>\n",
       "      <td>-2.713190</td>\n",
       "      <td>12.310974</td>\n",
       "      <td>33.805310</td>\n",
       "      <td>0.546888</td>\n",
       "      <td>4.34</td>\n",
       "      <td>-0.000007</td>\n",
       "      <td>0.030973</td>\n",
       "      <td>0.024801</td>\n",
       "      <td>0.000007</td>\n",
       "      <td>0.055774</td>\n",
       "      <td>2.324</td>\n",
       "      <td>2.190603</td>\n",
       "      <td>-629.187508</td>\n",
       "    </tr>\n",
       "    <tr>\n",
       "      <th>4</th>\n",
       "      <td>1999</td>\n",
       "      <td>0.880167</td>\n",
       "      <td>12.442648</td>\n",
       "      <td>21.380018</td>\n",
       "      <td>0.546888</td>\n",
       "      <td>4.34</td>\n",
       "      <td>-0.000007</td>\n",
       "      <td>0.038454</td>\n",
       "      <td>0.027352</td>\n",
       "      <td>0.000007</td>\n",
       "      <td>0.065806</td>\n",
       "      <td>2.260</td>\n",
       "      <td>2.130189</td>\n",
       "      <td>-683.452774</td>\n",
       "    </tr>\n",
       "  </tbody>\n",
       "</table>\n",
       "</div>"
      ]
     },
     "execution_count": 29,
     "metadata": {},
     "output_type": "execute_result"
    }
   ],
   "execution_count": 29
  },
  {
   "metadata": {
    "ExecuteTime": {
     "end_time": "2024-09-28T13:55:57.147747Z",
     "start_time": "2024-09-28T13:55:57.145753Z"
    }
   },
   "cell_type": "code",
   "source": "",
   "id": "628ead6aa5f76141",
   "outputs": [],
   "execution_count": 21
  },
  {
   "metadata": {},
   "cell_type": "code",
   "outputs": [],
   "execution_count": null,
   "source": "",
   "id": "e4b649768032b175"
  },
  {
   "metadata": {
    "ExecuteTime": {
     "end_time": "2024-09-28T14:03:29.160555Z",
     "start_time": "2024-09-28T14:03:29.124841Z"
    }
   },
   "cell_type": "code",
   "source": [
    "if existing_columns_to_drop:\n",
    "    data_df = data_df.drop(existing_columns_to_drop, axis=1)\n",
    "    print(f\"Columns {existing_columns_to_drop} dropped successfully.\")\n",
    "else:\n",
    "    print(f\"Columns {columns_to_drop} not found in the dataset.\")\n",
    "\n",
    "#"
   ],
   "id": "8fa4b8cd80b0a3d1",
   "outputs": [
    {
     "ename": "KeyError",
     "evalue": "\"['COUNTR', 'Country Code'] not found in axis\"",
     "output_type": "error",
     "traceback": [
      "\u001B[0;31m---------------------------------------------------------------------------\u001B[0m",
      "\u001B[0;31mKeyError\u001B[0m                                  Traceback (most recent call last)",
      "Cell \u001B[0;32mIn[30], line 2\u001B[0m\n\u001B[1;32m      1\u001B[0m \u001B[38;5;28;01mif\u001B[39;00m existing_columns_to_drop:\n\u001B[0;32m----> 2\u001B[0m     data_df \u001B[38;5;241m=\u001B[39m \u001B[43mdata_df\u001B[49m\u001B[38;5;241;43m.\u001B[39;49m\u001B[43mdrop\u001B[49m\u001B[43m(\u001B[49m\u001B[43mexisting_columns_to_drop\u001B[49m\u001B[43m,\u001B[49m\u001B[43m \u001B[49m\u001B[43maxis\u001B[49m\u001B[38;5;241;43m=\u001B[39;49m\u001B[38;5;241;43m1\u001B[39;49m\u001B[43m)\u001B[49m\n\u001B[1;32m      3\u001B[0m     \u001B[38;5;28mprint\u001B[39m(\u001B[38;5;124mf\u001B[39m\u001B[38;5;124m\"\u001B[39m\u001B[38;5;124mColumns \u001B[39m\u001B[38;5;132;01m{\u001B[39;00mexisting_columns_to_drop\u001B[38;5;132;01m}\u001B[39;00m\u001B[38;5;124m dropped successfully.\u001B[39m\u001B[38;5;124m\"\u001B[39m)\n\u001B[1;32m      4\u001B[0m \u001B[38;5;28;01melse\u001B[39;00m:\n",
      "File \u001B[0;32m~/PycharmProjects/data-etl-ml/.venv/lib/python3.9/site-packages/pandas/core/frame.py:5581\u001B[0m, in \u001B[0;36mDataFrame.drop\u001B[0;34m(self, labels, axis, index, columns, level, inplace, errors)\u001B[0m\n\u001B[1;32m   5433\u001B[0m \u001B[38;5;28;01mdef\u001B[39;00m \u001B[38;5;21mdrop\u001B[39m(\n\u001B[1;32m   5434\u001B[0m     \u001B[38;5;28mself\u001B[39m,\n\u001B[1;32m   5435\u001B[0m     labels: IndexLabel \u001B[38;5;241m|\u001B[39m \u001B[38;5;28;01mNone\u001B[39;00m \u001B[38;5;241m=\u001B[39m \u001B[38;5;28;01mNone\u001B[39;00m,\n\u001B[0;32m   (...)\u001B[0m\n\u001B[1;32m   5442\u001B[0m     errors: IgnoreRaise \u001B[38;5;241m=\u001B[39m \u001B[38;5;124m\"\u001B[39m\u001B[38;5;124mraise\u001B[39m\u001B[38;5;124m\"\u001B[39m,\n\u001B[1;32m   5443\u001B[0m ) \u001B[38;5;241m-\u001B[39m\u001B[38;5;241m>\u001B[39m DataFrame \u001B[38;5;241m|\u001B[39m \u001B[38;5;28;01mNone\u001B[39;00m:\n\u001B[1;32m   5444\u001B[0m \u001B[38;5;250m    \u001B[39m\u001B[38;5;124;03m\"\"\"\u001B[39;00m\n\u001B[1;32m   5445\u001B[0m \u001B[38;5;124;03m    Drop specified labels from rows or columns.\u001B[39;00m\n\u001B[1;32m   5446\u001B[0m \n\u001B[0;32m   (...)\u001B[0m\n\u001B[1;32m   5579\u001B[0m \u001B[38;5;124;03m            weight  1.0     0.8\u001B[39;00m\n\u001B[1;32m   5580\u001B[0m \u001B[38;5;124;03m    \"\"\"\u001B[39;00m\n\u001B[0;32m-> 5581\u001B[0m     \u001B[38;5;28;01mreturn\u001B[39;00m \u001B[38;5;28;43msuper\u001B[39;49m\u001B[43m(\u001B[49m\u001B[43m)\u001B[49m\u001B[38;5;241;43m.\u001B[39;49m\u001B[43mdrop\u001B[49m\u001B[43m(\u001B[49m\n\u001B[1;32m   5582\u001B[0m \u001B[43m        \u001B[49m\u001B[43mlabels\u001B[49m\u001B[38;5;241;43m=\u001B[39;49m\u001B[43mlabels\u001B[49m\u001B[43m,\u001B[49m\n\u001B[1;32m   5583\u001B[0m \u001B[43m        \u001B[49m\u001B[43maxis\u001B[49m\u001B[38;5;241;43m=\u001B[39;49m\u001B[43maxis\u001B[49m\u001B[43m,\u001B[49m\n\u001B[1;32m   5584\u001B[0m \u001B[43m        \u001B[49m\u001B[43mindex\u001B[49m\u001B[38;5;241;43m=\u001B[39;49m\u001B[43mindex\u001B[49m\u001B[43m,\u001B[49m\n\u001B[1;32m   5585\u001B[0m \u001B[43m        \u001B[49m\u001B[43mcolumns\u001B[49m\u001B[38;5;241;43m=\u001B[39;49m\u001B[43mcolumns\u001B[49m\u001B[43m,\u001B[49m\n\u001B[1;32m   5586\u001B[0m \u001B[43m        \u001B[49m\u001B[43mlevel\u001B[49m\u001B[38;5;241;43m=\u001B[39;49m\u001B[43mlevel\u001B[49m\u001B[43m,\u001B[49m\n\u001B[1;32m   5587\u001B[0m \u001B[43m        \u001B[49m\u001B[43minplace\u001B[49m\u001B[38;5;241;43m=\u001B[39;49m\u001B[43minplace\u001B[49m\u001B[43m,\u001B[49m\n\u001B[1;32m   5588\u001B[0m \u001B[43m        \u001B[49m\u001B[43merrors\u001B[49m\u001B[38;5;241;43m=\u001B[39;49m\u001B[43merrors\u001B[49m\u001B[43m,\u001B[49m\n\u001B[1;32m   5589\u001B[0m \u001B[43m    \u001B[49m\u001B[43m)\u001B[49m\n",
      "File \u001B[0;32m~/PycharmProjects/data-etl-ml/.venv/lib/python3.9/site-packages/pandas/core/generic.py:4788\u001B[0m, in \u001B[0;36mNDFrame.drop\u001B[0;34m(self, labels, axis, index, columns, level, inplace, errors)\u001B[0m\n\u001B[1;32m   4786\u001B[0m \u001B[38;5;28;01mfor\u001B[39;00m axis, labels \u001B[38;5;129;01min\u001B[39;00m axes\u001B[38;5;241m.\u001B[39mitems():\n\u001B[1;32m   4787\u001B[0m     \u001B[38;5;28;01mif\u001B[39;00m labels \u001B[38;5;129;01mis\u001B[39;00m \u001B[38;5;129;01mnot\u001B[39;00m \u001B[38;5;28;01mNone\u001B[39;00m:\n\u001B[0;32m-> 4788\u001B[0m         obj \u001B[38;5;241m=\u001B[39m \u001B[43mobj\u001B[49m\u001B[38;5;241;43m.\u001B[39;49m\u001B[43m_drop_axis\u001B[49m\u001B[43m(\u001B[49m\u001B[43mlabels\u001B[49m\u001B[43m,\u001B[49m\u001B[43m \u001B[49m\u001B[43maxis\u001B[49m\u001B[43m,\u001B[49m\u001B[43m \u001B[49m\u001B[43mlevel\u001B[49m\u001B[38;5;241;43m=\u001B[39;49m\u001B[43mlevel\u001B[49m\u001B[43m,\u001B[49m\u001B[43m \u001B[49m\u001B[43merrors\u001B[49m\u001B[38;5;241;43m=\u001B[39;49m\u001B[43merrors\u001B[49m\u001B[43m)\u001B[49m\n\u001B[1;32m   4790\u001B[0m \u001B[38;5;28;01mif\u001B[39;00m inplace:\n\u001B[1;32m   4791\u001B[0m     \u001B[38;5;28mself\u001B[39m\u001B[38;5;241m.\u001B[39m_update_inplace(obj)\n",
      "File \u001B[0;32m~/PycharmProjects/data-etl-ml/.venv/lib/python3.9/site-packages/pandas/core/generic.py:4830\u001B[0m, in \u001B[0;36mNDFrame._drop_axis\u001B[0;34m(self, labels, axis, level, errors, only_slice)\u001B[0m\n\u001B[1;32m   4828\u001B[0m         new_axis \u001B[38;5;241m=\u001B[39m axis\u001B[38;5;241m.\u001B[39mdrop(labels, level\u001B[38;5;241m=\u001B[39mlevel, errors\u001B[38;5;241m=\u001B[39merrors)\n\u001B[1;32m   4829\u001B[0m     \u001B[38;5;28;01melse\u001B[39;00m:\n\u001B[0;32m-> 4830\u001B[0m         new_axis \u001B[38;5;241m=\u001B[39m \u001B[43maxis\u001B[49m\u001B[38;5;241;43m.\u001B[39;49m\u001B[43mdrop\u001B[49m\u001B[43m(\u001B[49m\u001B[43mlabels\u001B[49m\u001B[43m,\u001B[49m\u001B[43m \u001B[49m\u001B[43merrors\u001B[49m\u001B[38;5;241;43m=\u001B[39;49m\u001B[43merrors\u001B[49m\u001B[43m)\u001B[49m\n\u001B[1;32m   4831\u001B[0m     indexer \u001B[38;5;241m=\u001B[39m axis\u001B[38;5;241m.\u001B[39mget_indexer(new_axis)\n\u001B[1;32m   4833\u001B[0m \u001B[38;5;66;03m# Case for non-unique axis\u001B[39;00m\n\u001B[1;32m   4834\u001B[0m \u001B[38;5;28;01melse\u001B[39;00m:\n",
      "File \u001B[0;32m~/PycharmProjects/data-etl-ml/.venv/lib/python3.9/site-packages/pandas/core/indexes/base.py:7070\u001B[0m, in \u001B[0;36mIndex.drop\u001B[0;34m(self, labels, errors)\u001B[0m\n\u001B[1;32m   7068\u001B[0m \u001B[38;5;28;01mif\u001B[39;00m mask\u001B[38;5;241m.\u001B[39many():\n\u001B[1;32m   7069\u001B[0m     \u001B[38;5;28;01mif\u001B[39;00m errors \u001B[38;5;241m!=\u001B[39m \u001B[38;5;124m\"\u001B[39m\u001B[38;5;124mignore\u001B[39m\u001B[38;5;124m\"\u001B[39m:\n\u001B[0;32m-> 7070\u001B[0m         \u001B[38;5;28;01mraise\u001B[39;00m \u001B[38;5;167;01mKeyError\u001B[39;00m(\u001B[38;5;124mf\u001B[39m\u001B[38;5;124m\"\u001B[39m\u001B[38;5;132;01m{\u001B[39;00mlabels[mask]\u001B[38;5;241m.\u001B[39mtolist()\u001B[38;5;132;01m}\u001B[39;00m\u001B[38;5;124m not found in axis\u001B[39m\u001B[38;5;124m\"\u001B[39m)\n\u001B[1;32m   7071\u001B[0m     indexer \u001B[38;5;241m=\u001B[39m indexer[\u001B[38;5;241m~\u001B[39mmask]\n\u001B[1;32m   7072\u001B[0m \u001B[38;5;28;01mreturn\u001B[39;00m \u001B[38;5;28mself\u001B[39m\u001B[38;5;241m.\u001B[39mdelete(indexer)\n",
      "\u001B[0;31mKeyError\u001B[0m: \"['COUNTR', 'Country Code'] not found in axis\""
     ]
    }
   ],
   "execution_count": 30
  },
  {
   "metadata": {},
   "cell_type": "code",
   "outputs": [],
   "execution_count": null,
   "source": "\n",
   "id": "726dfc480f9164f6"
  }
 ],
 "metadata": {
  "kernelspec": {
   "display_name": "Python 3",
   "language": "python",
   "name": "python3"
  },
  "language_info": {
   "codemirror_mode": {
    "name": "ipython",
    "version": 2
   },
   "file_extension": ".py",
   "mimetype": "text/x-python",
   "name": "python",
   "nbconvert_exporter": "python",
   "pygments_lexer": "ipython2",
   "version": "2.7.6"
  }
 },
 "nbformat": 4,
 "nbformat_minor": 5
}
