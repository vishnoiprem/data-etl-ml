{
 "cells": [
  {
   "cell_type": "code",
   "execution_count": 11,
   "metadata": {
    "_cell_guid": "b1076dfc-b9ad-4769-8c92-a6c4dae69d19",
    "_uuid": "8f2839f25d086af736a60e9eeb907d3b93b6e0e5",
    "execution": {
     "iopub.execute_input": "2024-06-12T09:46:36.068620Z",
     "iopub.status.busy": "2024-06-12T09:46:36.068268Z",
     "iopub.status.idle": "2024-06-12T09:46:36.074287Z",
     "shell.execute_reply": "2024-06-12T09:46:36.073117Z",
     "shell.execute_reply.started": "2024-06-12T09:46:36.068593Z"
    }
   },
   "outputs": [],
   "source": [
    "# Import necessary libraries\n",
    "import torch\n",
    "import torch.nn as nn\n",
    "import torch.optim as optim\n",
    "from torchvision import datasets, transforms, models\n",
    "from torch.utils.data import DataLoader\n",
    "import matplotlib.pyplot as plt\n",
    "import numpy as np"
   ]
  },
  {
   "cell_type": "code",
   "execution_count": 12,
   "metadata": {
    "execution": {
     "iopub.execute_input": "2024-06-12T09:46:36.267572Z",
     "iopub.status.busy": "2024-06-12T09:46:36.266849Z",
     "iopub.status.idle": "2024-06-12T09:46:36.272194Z",
     "shell.execute_reply": "2024-06-12T09:46:36.271279Z",
     "shell.execute_reply.started": "2024-06-12T09:46:36.267546Z"
    }
   },
   "outputs": [],
   "source": [
    "# Define transformations for the training and validation sets\n",
    "transform = transforms.Compose([\n",
    "    transforms.Resize((224, 224)),\n",
    "    transforms.ToTensor(),\n",
    "    transforms.Normalize(mean=[0.485, 0.456, 0.406], std=[0.229, 0.224, 0.225])\n",
    "])"
   ]
  },
  {
   "cell_type": "code",
   "execution_count": null,
   "metadata": {},
   "outputs": [],
   "source": [
    "# Paths to the data\n",
    "train_data_path = r'C:\\Users\\Praphul\\Downloads\\Human Action Recognition_New/train'\n",
    "test_data_path = r'C:\\Users\\Praphul\\Downloads\\Human Action Recognition_New/test'"
   ]
  },
  {
   "cell_type": "code",
   "execution_count": 14,
   "metadata": {
    "execution": {
     "iopub.execute_input": "2024-06-12T09:46:36.567077Z",
     "iopub.status.busy": "2024-06-12T09:46:36.566761Z",
     "iopub.status.idle": "2024-06-12T09:46:36.610738Z",
     "shell.execute_reply": "2024-06-12T09:46:36.609841Z",
     "shell.execute_reply.started": "2024-06-12T09:46:36.567036Z"
    }
   },
   "outputs": [],
   "source": [
    "#Apply the transforms to the train and test data\n",
    "train_data = datasets.ImageFolder(root=train_data_path, transform=transform)\n",
    "test_data = datasets.ImageFolder(root=test_data_path, transform=transform)"
   ]
  },
  {
   "cell_type": "code",
   "execution_count": 15,
   "metadata": {
    "execution": {
     "iopub.execute_input": "2024-06-12T09:46:36.695920Z",
     "iopub.status.busy": "2024-06-12T09:46:36.695440Z",
     "iopub.status.idle": "2024-06-12T09:46:36.701185Z",
     "shell.execute_reply": "2024-06-12T09:46:36.700226Z",
     "shell.execute_reply.started": "2024-06-12T09:46:36.695896Z"
    }
   },
   "outputs": [],
   "source": [
    "# Create DataLoader for training and test sets\n",
    "train_loader = DataLoader(train_data, batch_size=32, shuffle=True, num_workers=4)\n",
    "test_loader = DataLoader(test_data, batch_size=32, shuffle=False, num_workers=4)"
   ]
  },
  {
   "cell_type": "markdown",
   "metadata": {},
   "source": [
    "#### Run all cells till here."
   ]
  },
  {
   "cell_type": "markdown",
   "metadata": {},
   "source": [
    "### Define the VGG16 Model"
   ]
  },
  {
   "cell_type": "code",
   "execution_count": 16,
   "metadata": {
    "execution": {
     "iopub.execute_input": "2024-06-12T09:46:37.180868Z",
     "iopub.status.busy": "2024-06-12T09:46:37.179950Z",
     "iopub.status.idle": "2024-06-12T09:46:38.467981Z",
     "shell.execute_reply": "2024-06-12T09:46:38.466959Z",
     "shell.execute_reply.started": "2024-06-12T09:46:37.180829Z"
    }
   },
   "outputs": [],
   "source": [
    "import torch.nn as nn\n",
    "import torch.nn.functional as F\n",
    "\n",
    "class VGG16(nn.Module):\n",
    "    def __init__(self, num_classes=5):\n",
    "        super(VGG16, self).__init__()\n",
    "        self.features = nn.Sequential(\n",
    "            nn.Conv2d(3, 64, kernel_size=3, padding=1),\n",
    "            nn.ReLU(inplace=True),\n",
    "            nn.Conv2d(64, 64, kernel_size=3, padding=1),\n",
    "            nn.ReLU(inplace=True),\n",
    "            nn.MaxPool2d(kernel_size=2, stride=2),\n",
    "            \n",
    "            nn.Conv2d(64, 128, kernel_size=3, padding=1),\n",
    "            nn.ReLU(inplace=True),\n",
    "            nn.Conv2d(128, 128, kernel_size=3, padding=1),\n",
    "            nn.ReLU(inplace=True),\n",
    "            nn.MaxPool2d(kernel_size=2, stride=2),\n",
    "            \n",
    "            nn.Conv2d(128, 256, kernel_size=3, padding=1),\n",
    "            nn.ReLU(inplace=True),\n",
    "            nn.Conv2d(256, 256, kernel_size=3, padding=1),\n",
    "            nn.ReLU(inplace=True),\n",
    "            nn.Conv2d(256, 256, kernel_size=3, padding=1),\n",
    "            nn.ReLU(inplace=True),\n",
    "            nn.MaxPool2d(kernel_size=2, stride=2),\n",
    "            \n",
    "            nn.Conv2d(256, 512, kernel_size=3, padding=1),\n",
    "            nn.ReLU(inplace=True),\n",
    "            nn.Conv2d(512, 512, kernel_size=3, padding=1),\n",
    "            nn.ReLU(inplace=True),\n",
    "            nn.Conv2d(512, 512, kernel_size=3, padding=1),\n",
    "            nn.ReLU(inplace=True),\n",
    "            nn.MaxPool2d(kernel_size=2, stride=2),\n",
    "            \n",
    "            nn.Conv2d(512, 512, kernel_size=3, padding=1),\n",
    "            nn.ReLU(inplace=True),\n",
    "            nn.Conv2d(512, 512, kernel_size=3, padding=1),\n",
    "            nn.ReLU(inplace=True),\n",
    "            nn.Conv2d(512, 512, kernel_size=3, padding=1),\n",
    "            nn.ReLU(inplace=True),\n",
    "            nn.MaxPool2d(kernel_size=2, stride=2),\n",
    "        )\n",
    "        self.classifier = nn.Sequential(\n",
    "            nn.Linear(512 * 7 * 7, 4096),\n",
    "            nn.ReLU(inplace=True),\n",
    "            nn.Dropout(),\n",
    "            nn.Linear(4096, 4096),\n",
    "            nn.ReLU(inplace=True),\n",
    "            nn.Dropout(),\n",
    "            nn.Linear(4096, num_classes),\n",
    "        )\n",
    "\n",
    "    def forward(self, x):\n",
    "        x = self.features(x)\n",
    "        x = x.view(x.size(0), -1)\n",
    "        x = self.classifier(x)\n",
    "        return x\n",
    "\n",
    "model = VGG16(num_classes=5)\n"
   ]
  },
  {
   "cell_type": "code",
   "execution_count": 17,
   "metadata": {
    "execution": {
     "iopub.execute_input": "2024-06-12T09:46:38.470615Z",
     "iopub.status.busy": "2024-06-12T09:46:38.469967Z",
     "iopub.status.idle": "2024-06-12T09:46:38.476078Z",
     "shell.execute_reply": "2024-06-12T09:46:38.475228Z",
     "shell.execute_reply.started": "2024-06-12T09:46:38.470580Z"
    }
   },
   "outputs": [],
   "source": [
    "from torch import optim\n",
    "criterion = nn.CrossEntropyLoss()\n",
    "optimizer = optim.Adam(model.parameters(), lr=0.001)"
   ]
  },
  {
   "cell_type": "code",
   "execution_count": 18,
   "metadata": {
    "execution": {
     "iopub.execute_input": "2024-06-12T09:46:38.477652Z",
     "iopub.status.busy": "2024-06-12T09:46:38.477360Z",
     "iopub.status.idle": "2024-06-12T09:46:38.487982Z",
     "shell.execute_reply": "2024-06-12T09:46:38.487155Z",
     "shell.execute_reply.started": "2024-06-12T09:46:38.477629Z"
    }
   },
   "outputs": [
    {
     "data": {
      "text/plain": [
       "device(type='cuda')"
      ]
     },
     "execution_count": 18,
     "metadata": {},
     "output_type": "execute_result"
    }
   ],
   "source": [
    "# Check if GPU is available\n",
    "device = torch.device('cuda' if torch.cuda.is_available() else 'cpu')\n",
    "device"
   ]
  },
  {
   "cell_type": "code",
   "execution_count": 19,
   "metadata": {
    "execution": {
     "iopub.execute_input": "2024-06-12T09:46:38.489735Z",
     "iopub.status.busy": "2024-06-12T09:46:38.489480Z",
     "iopub.status.idle": "2024-06-12T09:46:38.646273Z",
     "shell.execute_reply": "2024-06-12T09:46:38.645330Z",
     "shell.execute_reply.started": "2024-06-12T09:46:38.489714Z"
    }
   },
   "outputs": [],
   "source": [
    "model = model.to(device)"
   ]
  },
  {
   "cell_type": "code",
   "execution_count": 20,
   "metadata": {
    "execution": {
     "iopub.execute_input": "2024-06-12T09:46:39.097532Z",
     "iopub.status.busy": "2024-06-12T09:46:39.097193Z",
     "iopub.status.idle": "2024-06-12T09:57:08.378888Z",
     "shell.execute_reply": "2024-06-12T09:57:08.377731Z",
     "shell.execute_reply.started": "2024-06-12T09:46:39.097506Z"
    }
   },
   "outputs": [
    {
     "name": "stdout",
     "output_type": "stream",
     "text": [
      "Epoch [1/20], Train Loss: 1.6302, Train Accuracy: 19.58%\n",
      "Test Loss: 1.6097, Test Accuracy: 20.00%\n",
      "Updated best model with accuracy: 20.00%\n",
      "Epoch [2/20], Train Loss: 1.6102, Train Accuracy: 20.28%\n",
      "Test Loss: 1.6096, Test Accuracy: 20.00%\n",
      "Updated best model with accuracy: 20.00%\n",
      "Epoch [3/20], Train Loss: 1.6101, Train Accuracy: 19.13%\n",
      "Test Loss: 1.6095, Test Accuracy: 20.00%\n",
      "Updated best model with accuracy: 20.00%\n",
      "Epoch [4/20], Train Loss: 1.6102, Train Accuracy: 19.83%\n",
      "Test Loss: 1.6094, Test Accuracy: 20.00%\n",
      "Updated best model with accuracy: 20.00%\n",
      "Epoch [5/20], Train Loss: 1.6105, Train Accuracy: 18.07%\n",
      "Test Loss: 1.6094, Test Accuracy: 20.00%\n",
      "Epoch [6/20], Train Loss: 1.6100, Train Accuracy: 19.50%\n",
      "Test Loss: 1.6095, Test Accuracy: 20.00%\n",
      "Epoch [7/20], Train Loss: 1.6101, Train Accuracy: 19.75%\n",
      "Test Loss: 1.6096, Test Accuracy: 20.00%\n",
      "Epoch [8/20], Train Loss: 1.6102, Train Accuracy: 20.11%\n",
      "Test Loss: 1.6095, Test Accuracy: 20.00%\n",
      "Epoch [9/20], Train Loss: 1.6101, Train Accuracy: 18.94%\n",
      "Test Loss: 1.6095, Test Accuracy: 20.00%\n",
      "Epoch [10/20], Train Loss: 1.6102, Train Accuracy: 19.47%\n",
      "Test Loss: 1.6094, Test Accuracy: 20.00%\n",
      "Updated best model with accuracy: 20.00%\n",
      "Epoch [11/20], Train Loss: 1.6099, Train Accuracy: 19.94%\n",
      "Test Loss: 1.6095, Test Accuracy: 20.00%\n",
      "Epoch [12/20], Train Loss: 1.6100, Train Accuracy: 19.52%\n",
      "Test Loss: 1.6095, Test Accuracy: 20.00%\n",
      "Epoch [13/20], Train Loss: 1.6102, Train Accuracy: 18.57%\n",
      "Test Loss: 1.6095, Test Accuracy: 20.00%\n",
      "Epoch [14/20], Train Loss: 1.6101, Train Accuracy: 19.75%\n",
      "Test Loss: 1.6095, Test Accuracy: 20.00%\n",
      "Epoch [15/20], Train Loss: 1.6098, Train Accuracy: 19.86%\n",
      "Test Loss: 1.6094, Test Accuracy: 20.00%\n",
      "Epoch [16/20], Train Loss: 1.6103, Train Accuracy: 19.19%\n",
      "Test Loss: 1.6094, Test Accuracy: 20.00%\n",
      "Stopping early: no improvement after five consecutive epochs.\n"
     ]
    }
   ],
   "source": [
    "import matplotlib.pyplot as plt\n",
    "\n",
    "# Initialize the lists to store train and test loss for each epoch\n",
    "train_losses = []\n",
    "test_losses = []\n",
    "\n",
    "# Train the model\n",
    "num_epochs = 20\n",
    "best_loss = torch.inf\n",
    "patience = 5\n",
    "epochs_since_best = 0\n",
    "\n",
    "for epoch in range(num_epochs):\n",
    "    model.train()\n",
    "    running_loss = 0.0\n",
    "    correct = 0\n",
    "    total = 0\n",
    "\n",
    "    for images, labels in train_loader:\n",
    "        images, labels = images.to(device), labels.to(device)\n",
    "        optimizer.zero_grad()\n",
    "        outputs = model(images)\n",
    "        if isinstance(outputs, tuple):\n",
    "            outputs = outputs[0]  # For models that return auxiliary outputs\n",
    "        loss = criterion(outputs, labels)\n",
    "        loss.backward()\n",
    "        optimizer.step()\n",
    "        running_loss += loss.item()\n",
    "        _, predicted = outputs.max(1)\n",
    "        total += labels.size(0)\n",
    "        correct += predicted.eq(labels).sum().item()\n",
    "\n",
    "    train_loss = running_loss / len(train_loader)\n",
    "    train_losses.append(train_loss)  # Store the train loss for this epoch\n",
    "    train_accuracy = 100. * correct / total\n",
    "\n",
    "    print(f'Epoch [{epoch + 1}/{num_epochs}], '\n",
    "          f'Train Loss: {train_loss:.4f}, Train Accuracy: {train_accuracy:.2f}%')\n",
    "\n",
    "    # Evaluate on the test set\n",
    "    model.eval()\n",
    "    test_loss = 0.0\n",
    "    correct = 0\n",
    "    total = 0\n",
    "\n",
    "    with torch.no_grad():\n",
    "        for images, labels in test_loader:\n",
    "            images, labels = images.to(device), labels.to(device)\n",
    "            outputs = model(images)\n",
    "            if isinstance(outputs, tuple):\n",
    "                outputs = outputs[0]  # For models that return auxiliary outputs\n",
    "            loss = criterion(outputs, labels)\n",
    "            test_loss += loss.item()\n",
    "            _, predicted = outputs.max(1)\n",
    "            total += labels.size(0)\n",
    "            correct += predicted.eq(labels).sum().item()\n",
    "\n",
    "    test_loss /= len(test_loader)\n",
    "    test_losses.append(test_loss)  # Store the test loss for this epoch\n",
    "    test_accuracy = 100. * correct / total\n",
    "\n",
    "    print(f'Test Loss: {test_loss:.4f}, Test Accuracy: {test_accuracy:.2f}%')\n",
    "\n",
    "    # Check for best accuracy and stop if not improved after five more epochs\n",
    "    if test_loss < best_loss:\n",
    "        best_loss = test_loss\n",
    "        epochs_since_best = 0\n",
    "        torch.save(model.state_dict(), 'best_model.pth')  # Save the model\n",
    "        print(f'Updated best model with accuracy: {test_accuracy:.2f}%')\n",
    "    else:\n",
    "        epochs_since_best += 1\n",
    "        if epochs_since_best > patience:\n",
    "            print(\"Stopping early: no improvement after five consecutive epochs.\")\n",
    "            break"
   ]
  },
  {
   "cell_type": "code",
   "execution_count": 24,
   "metadata": {
    "execution": {
     "iopub.execute_input": "2024-06-12T09:58:35.865981Z",
     "iopub.status.busy": "2024-06-12T09:58:35.865233Z",
     "iopub.status.idle": "2024-06-12T09:58:36.144985Z",
     "shell.execute_reply": "2024-06-12T09:58:36.144108Z",
     "shell.execute_reply.started": "2024-06-12T09:58:35.865945Z"
    }
   },
   "outputs": [
    {
     "data": {
      "image/png": "[encoded data removed]",
      "text/plain": [
       "<Figure size 640x480 with 1 Axes>"
      ]
     },
     "metadata": {},
     "output_type": "display_data"
    }
   ],
   "source": [
    "# Plotting the epochs vs training and test losses\n",
    "plt.plot(train_losses, label='Training Loss')\n",
    "plt.plot(test_losses, label='test Loss')\n",
    "plt.xlabel('Epochs')\n",
    "plt.ylabel('Loss')\n",
    "plt.legend()\n",
    "plt.show()"
   ]
  }
 ],
 "metadata": {
  "kaggle": {
   "accelerator": "gpu",
   "dataSources": [
    {
     "datasetId": 5190427,
     "sourceId": 8662681,
     "sourceType": "datasetVersion"
    },
    {
     "datasetId": 5190742,
     "sourceId": 8663090,
     "sourceType": "datasetVersion"
    }
   ],
   "dockerImageVersionId": 30733,
   "isGpuEnabled": true,
   "isInternetEnabled": true,
   "language": "python",
   "sourceType": "notebook"
  },
  "kernelspec": {
   "display_name": "Python 3 (ipykernel)",
   "language": "python",
   "name": "python3"
  },
  "language_info": {
   "codemirror_mode": {
    "name": "ipython",
    "version": 3
   },
   "file_extension": ".py",
   "mimetype": "text/x-python",
   "name": "python",
   "nbconvert_exporter": "python",
   "pygments_lexer": "ipython3",
   "version": "3.11.7"
  }
 },
 "nbformat": 4,
 "nbformat_minor": 4
}
