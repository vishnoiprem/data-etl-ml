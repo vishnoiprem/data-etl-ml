{
 "cells": [
  {
   "cell_type": "code",
   "execution_count": 1,
   "metadata": {
    "_cell_guid": "b1076dfc-b9ad-4769-8c92-a6c4dae69d19",
    "_uuid": "8f2839f25d086af736a60e9eeb907d3b93b6e0e5",
    "execution": {
     "iopub.execute_input": "2024-06-12T08:08:43.572211Z",
     "iopub.status.busy": "2024-06-12T08:08:43.571880Z",
     "iopub.status.idle": "2024-06-12T08:08:49.027106Z",
     "shell.execute_reply": "2024-06-12T08:08:49.026162Z",
     "shell.execute_reply.started": "2024-06-12T08:08:43.572185Z"
    }
   },
   "outputs": [
    {
     "data": {
      "text/plain": [
       "device(type='cuda')"
      ]
     },
     "execution_count": 1,
     "metadata": {},
     "output_type": "execute_result"
    }
   ],
   "source": [
    "# Import necessary libraries\n",
    "import torch\n",
    "import torch.nn as nn\n",
    "import torch.optim as optim\n",
    "from torchvision import datasets, transforms, models\n",
    "from torch.utils.data import DataLoader\n",
    "import matplotlib.pyplot as plt\n",
    "import numpy as np\n",
    "\n",
    "# Check if GPU is available\n",
    "device = torch.device('cuda' if torch.cuda.is_available() else 'cpu')\n",
    "device"
   ]
  },
  {
   "cell_type": "code",
   "execution_count": 2,
   "metadata": {
    "execution": {
     "iopub.execute_input": "2024-06-12T08:08:49.029080Z",
     "iopub.status.busy": "2024-06-12T08:08:49.028688Z",
     "iopub.status.idle": "2024-06-12T08:08:49.033868Z",
     "shell.execute_reply": "2024-06-12T08:08:49.033109Z",
     "shell.execute_reply.started": "2024-06-12T08:08:49.029055Z"
    }
   },
   "outputs": [],
   "source": [
    "# Define transformations for the training and validation sets\n",
    "transform = transforms.Compose([\n",
    "    transforms.Resize((224, 224)),\n",
    "    transforms.ToTensor(),\n",
    "    transforms.Normalize(mean=[0.485, 0.456, 0.406], std=[0.229, 0.224, 0.225])\n",
    "])"
   ]
  },
  {
   "cell_type": "code",
   "execution_count": null,
   "metadata": {},
   "outputs": [],
   "source": [
    "# Paths to the data\n",
    "train_data_path = r'C:\\Users\\Praphul\\Downloads\\Human Action Recognition_New/train'\n",
    "test_data_path = r'C:\\Users\\Praphul\\Downloads\\Human Action Recognition_New/test'"
   ]
  },
  {
   "cell_type": "code",
   "execution_count": 4,
   "metadata": {
    "execution": {
     "iopub.execute_input": "2024-06-12T08:08:49.051572Z",
     "iopub.status.busy": "2024-06-12T08:08:49.051305Z",
     "iopub.status.idle": "2024-06-12T08:08:50.960972Z",
     "shell.execute_reply": "2024-06-12T08:08:50.960177Z",
     "shell.execute_reply.started": "2024-06-12T08:08:49.051549Z"
    }
   },
   "outputs": [],
   "source": [
    "#Apply the transforms to the train and test data\n",
    "train_data = datasets.ImageFolder(root=train_data_path, transform=transform)\n",
    "test_data = datasets.ImageFolder(root=test_data_path, transform=transform)"
   ]
  },
  {
   "cell_type": "code",
   "execution_count": 5,
   "metadata": {
    "execution": {
     "iopub.execute_input": "2024-06-12T08:08:50.962436Z",
     "iopub.status.busy": "2024-06-12T08:08:50.962115Z",
     "iopub.status.idle": "2024-06-12T08:08:50.967523Z",
     "shell.execute_reply": "2024-06-12T08:08:50.966492Z",
     "shell.execute_reply.started": "2024-06-12T08:08:50.962410Z"
    }
   },
   "outputs": [],
   "source": [
    "# Create DataLoader for training and test sets\n",
    "train_loader = DataLoader(train_data, batch_size=32, shuffle=True, num_workers=4)\n",
    "test_loader = DataLoader(test_data, batch_size=32, shuffle=False, num_workers=4)"
   ]
  },
  {
   "cell_type": "markdown",
   "metadata": {},
   "source": [
    "#### Run all cells till here."
   ]
  },
  {
   "cell_type": "markdown",
   "metadata": {},
   "source": [
    "### Load the pre-trained VGG16 Model"
   ]
  },
  {
   "cell_type": "code",
   "execution_count": 6,
   "metadata": {
    "execution": {
     "iopub.execute_input": "2024-06-12T08:08:53.159432Z",
     "iopub.status.busy": "2024-06-12T08:08:53.159070Z",
     "iopub.status.idle": "2024-06-12T08:08:58.625106Z",
     "shell.execute_reply": "2024-06-12T08:08:58.624272Z",
     "shell.execute_reply.started": "2024-06-12T08:08:53.159405Z"
    }
   },
   "outputs": [
    {
     "name": "stderr",
     "output_type": "stream",
     "text": [
      "/opt/conda/lib/python3.10/site-packages/torchvision/models/_utils.py:208: UserWarning: The parameter 'pretrained' is deprecated since 0.13 and may be removed in the future, please use 'weights' instead.\n",
      "  warnings.warn(\n",
      "/opt/conda/lib/python3.10/site-packages/torchvision/models/_utils.py:223: UserWarning: Arguments other than a weight enum or `None` for 'weights' are deprecated since 0.13 and may be removed in the future. The current behavior is equivalent to passing `weights=VGG16_Weights.IMAGENET1K_V1`. You can also use `weights=VGG16_Weights.DEFAULT` to get the most up-to-date weights.\n",
      "  warnings.warn(msg)\n",
      "Downloading: \"https://download.pytorch.org/models/vgg16-397923af.pth\" to /root/.cache/torch/hub/checkpoints/vgg16-397923af.pth\n",
      "100%|██████████| 528M/528M [00:03<00:00, 164MB/s] \n"
     ]
    }
   ],
   "source": [
    "# Load the pre-trained VGG16 model\n",
    "vgg16 = models.vgg16(pretrained=True)\n",
    "\n",
    "# Freeze all the feature extractor layers and the earlier classifier layers\n",
    "for param in vgg16.parameters():\n",
    "    param.requires_grad = False\n",
    "\n",
    "# Modify the classifier part of the model to match the number of classes (5 classes)\n",
    "vgg16.classifier[6] = nn.Linear(4096, 5)\n",
    "\n",
    "# Move the model to the device\n",
    "model = vgg16.to(device)\n",
    "\n",
    "# Define the loss function and the optimizer (only train the last classification layer)\n",
    "criterion = nn.CrossEntropyLoss()\n",
    "optimizer = optim.Adam(vgg16.classifier[6].parameters(), lr=0.001)"
   ]
  },
  {
   "cell_type": "code",
   "execution_count": 8,
   "metadata": {
    "execution": {
     "iopub.execute_input": "2024-06-12T08:09:00.911136Z",
     "iopub.status.busy": "2024-06-12T08:09:00.910490Z",
     "iopub.status.idle": "2024-06-12T08:10:55.775474Z",
     "shell.execute_reply": "2024-06-12T08:10:55.774200Z",
     "shell.execute_reply.started": "2024-06-12T08:09:00.911093Z"
    }
   },
   "outputs": [
    {
     "name": "stdout",
     "output_type": "stream",
     "text": [
      "Epoch [1/20], Train Loss: 0.4475, Train Accuracy: 84.54%\n",
      "Test Loss: 0.2354, Test Accuracy: 91.90%\n",
      "Updated best model with accuracy: 91.90%\n",
      "Epoch [2/20], Train Loss: 0.3087, Train Accuracy: 88.94%\n",
      "Test Loss: 0.2305, Test Accuracy: 92.86%\n",
      "Updated best model with accuracy: 92.86%\n",
      "Epoch [3/20], Train Loss: 0.2730, Train Accuracy: 90.48%\n",
      "Test Loss: 0.2123, Test Accuracy: 93.49%\n",
      "Updated best model with accuracy: 93.49%\n",
      "Epoch [4/20], Train Loss: 0.2651, Train Accuracy: 90.20%\n",
      "Test Loss: 0.2163, Test Accuracy: 93.02%\n",
      "Epoch [5/20], Train Loss: 0.2447, Train Accuracy: 91.06%\n",
      "Test Loss: 0.2328, Test Accuracy: 92.06%\n",
      "Epoch [6/20], Train Loss: 0.2313, Train Accuracy: 91.65%\n",
      "Test Loss: 0.2352, Test Accuracy: 91.75%\n",
      "Epoch [7/20], Train Loss: 0.2220, Train Accuracy: 92.13%\n",
      "Test Loss: 0.2186, Test Accuracy: 93.17%\n",
      "Epoch [8/20], Train Loss: 0.2124, Train Accuracy: 91.93%\n",
      "Test Loss: 0.2273, Test Accuracy: 92.86%\n",
      "Epoch [9/20], Train Loss: 0.2189, Train Accuracy: 91.82%\n",
      "Test Loss: 0.2348, Test Accuracy: 92.86%\n",
      "Stopping early: no improvement after five consecutive epochs.\n"
     ]
    }
   ],
   "source": [
    "\n",
    "import matplotlib.pyplot as plt\n",
    "\n",
    "# Initialize the lists to store train and test loss for each epoch\n",
    "train_losses = []\n",
    "test_losses = []\n",
    "\n",
    "# Train the model\n",
    "num_epochs = 20\n",
    "best_loss = torch.inf\n",
    "patience = 5\n",
    "epochs_since_best = 0\n",
    "\n",
    "for epoch in range(num_epochs):\n",
    "    model.train()\n",
    "    running_loss = 0.0\n",
    "    correct = 0\n",
    "    total = 0\n",
    "\n",
    "    for images, labels in train_loader:\n",
    "        images, labels = images.to(device), labels.to(device)\n",
    "        optimizer.zero_grad()\n",
    "        outputs = model(images)\n",
    "        if isinstance(outputs, tuple):\n",
    "            outputs = outputs[0]  # For models that return auxiliary outputs\n",
    "        loss = criterion(outputs, labels)\n",
    "        loss.backward()\n",
    "        optimizer.step()\n",
    "        running_loss += loss.item()\n",
    "        _, predicted = outputs.max(1)\n",
    "        total += labels.size(0)\n",
    "        correct += predicted.eq(labels).sum().item()\n",
    "\n",
    "    train_loss = running_loss / len(train_loader)\n",
    "    train_losses.append(train_loss)  # Store the train loss for this epoch\n",
    "    train_accuracy = 100. * correct / total\n",
    "\n",
    "    print(f'Epoch [{epoch + 1}/{num_epochs}], '\n",
    "          f'Train Loss: {train_loss:.4f}, Train Accuracy: {train_accuracy:.2f}%')\n",
    "\n",
    "    # Evaluate on the test set\n",
    "    model.eval()\n",
    "    test_loss = 0.0\n",
    "    correct = 0\n",
    "    total = 0\n",
    "\n",
    "    with torch.no_grad():\n",
    "        for images, labels in test_loader:\n",
    "            images, labels = images.to(device), labels.to(device)\n",
    "            outputs = model(images)\n",
    "            if isinstance(outputs, tuple):\n",
    "                outputs = outputs[0]  # For models that return auxiliary outputs\n",
    "            loss = criterion(outputs, labels)\n",
    "            test_loss += loss.item()\n",
    "            _, predicted = outputs.max(1)\n",
    "            total += labels.size(0)\n",
    "            correct += predicted.eq(labels).sum().item()\n",
    "\n",
    "    test_loss /= len(test_loader)\n",
    "    test_losses.append(test_loss)  # Store the test loss for this epoch\n",
    "    test_accuracy = 100. * correct / total\n",
    "\n",
    "    print(f'Test Loss: {test_loss:.4f}, Test Accuracy: {test_accuracy:.2f}%')\n",
    "\n",
    "    # Check for best accuracy and stop if not improved after five more epochs\n",
    "    if test_loss < best_loss:\n",
    "        best_loss = test_loss\n",
    "        epochs_since_best = 0\n",
    "        torch.save(model.state_dict(), 'best_model.pth')  # Save the model\n",
    "        print(f'Updated best model with accuracy: {test_accuracy:.2f}%')\n",
    "    else:\n",
    "        epochs_since_best += 1\n",
    "        if epochs_since_best > patience:\n",
    "            print(\"Stopping early: no improvement after five consecutive epochs.\")\n",
    "            break"
   ]
  },
  {
   "cell_type": "code",
   "execution_count": 13,
   "metadata": {
    "execution": {
     "iopub.execute_input": "2024-06-12T08:12:50.926519Z",
     "iopub.status.busy": "2024-06-12T08:12:50.925697Z",
     "iopub.status.idle": "2024-06-12T08:12:51.239711Z",
     "shell.execute_reply": "2024-06-12T08:12:51.238868Z",
     "shell.execute_reply.started": "2024-06-12T08:12:50.926482Z"
    }
   },
   "outputs": [
    {
     "data": {
      "image/png": "[encoded data removed]",
      "text/plain": [
       "<Figure size 640x480 with 1 Axes>"
      ]
     },
     "metadata": {},
     "output_type": "display_data"
    }
   ],
   "source": [
    "# Plotting the epochs vs training and test losses\n",
    "plt.plot(train_losses, label='Training Loss')\n",
    "plt.plot(test_losses, label='test Loss')\n",
    "plt.xlabel('Epochs')\n",
    "plt.ylabel('Loss')\n",
    "plt.legend()\n",
    "plt.show()"
   ]
  },
  {
   "cell_type": "code",
   "execution_count": null,
   "metadata": {},
   "outputs": [],
   "source": []
  },
  {
   "cell_type": "code",
   "execution_count": null,
   "metadata": {},
   "outputs": [],
   "source": []
  },
  {
   "cell_type": "code",
   "execution_count": null,
   "metadata": {},
   "outputs": [],
   "source": []
  },
  {
   "cell_type": "code",
   "execution_count": null,
   "metadata": {},
   "outputs": [],
   "source": []
  },
  {
   "cell_type": "code",
   "execution_count": null,
   "metadata": {},
   "outputs": [],
   "source": []
  },
  {
   "cell_type": "code",
   "execution_count": null,
   "metadata": {},
   "outputs": [],
   "source": []
  }
 ],
 "metadata": {
  "kaggle": {
   "accelerator": "gpu",
   "dataSources": [
    {
     "datasetId": 5190427,
     "sourceId": 8662681,
     "sourceType": "datasetVersion"
    },
    {
     "datasetId": 5190742,
     "sourceId": 8663090,
     "sourceType": "datasetVersion"
    }
   ],
   "dockerImageVersionId": 30733,
   "isGpuEnabled": true,
   "isInternetEnabled": true,
   "language": "python",
   "sourceType": "notebook"
  },
  "kernelspec": {
   "display_name": "Python 3 (ipykernel)",
   "language": "python",
   "name": "python3"
  },
  "language_info": {
   "codemirror_mode": {
    "name": "ipython",
    "version": 3
   },
   "file_extension": ".py",
   "mimetype": "text/x-python",
   "name": "python",
   "nbconvert_exporter": "python",
   "pygments_lexer": "ipython3",
   "version": "3.11.7"
  }
 },
 "nbformat": 4,
 "nbformat_minor": 4
}
