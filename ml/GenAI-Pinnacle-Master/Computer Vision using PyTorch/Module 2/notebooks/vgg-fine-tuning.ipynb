{
 "cells": [
  {
   "cell_type": "code",
   "execution_count": 1,
   "metadata": {
    "_cell_guid": "b1076dfc-b9ad-4769-8c92-a6c4dae69d19",
    "_uuid": "8f2839f25d086af736a60e9eeb907d3b93b6e0e5",
    "execution": {
     "iopub.execute_input": "2024-06-12T10:00:12.085532Z",
     "iopub.status.busy": "2024-06-12T10:00:12.084886Z",
     "iopub.status.idle": "2024-06-12T10:00:17.178670Z",
     "shell.execute_reply": "2024-06-12T10:00:17.177819Z",
     "shell.execute_reply.started": "2024-06-12T10:00:12.085501Z"
    }
   },
   "outputs": [
    {
     "data": {
      "text/plain": [
       "device(type='cuda')"
      ]
     },
     "execution_count": 1,
     "metadata": {},
     "output_type": "execute_result"
    }
   ],
   "source": [
    "# Import necessary libraries\n",
    "import torch\n",
    "import torch.nn as nn\n",
    "import torch.optim as optim\n",
    "from torchvision import datasets, transforms, models\n",
    "from torch.utils.data import DataLoader\n",
    "import matplotlib.pyplot as plt\n",
    "import numpy as np\n",
    "\n",
    "# Check if GPU is available\n",
    "device = torch.device('cuda' if torch.cuda.is_available() else 'cpu')\n",
    "device"
   ]
  },
  {
   "cell_type": "code",
   "execution_count": 2,
   "metadata": {
    "execution": {
     "iopub.execute_input": "2024-06-12T10:00:17.181600Z",
     "iopub.status.busy": "2024-06-12T10:00:17.181096Z",
     "iopub.status.idle": "2024-06-12T10:00:17.186980Z",
     "shell.execute_reply": "2024-06-12T10:00:17.185797Z",
     "shell.execute_reply.started": "2024-06-12T10:00:17.181562Z"
    }
   },
   "outputs": [],
   "source": [
    "# Define transformations for the training and validation sets\n",
    "transform = transforms.Compose([\n",
    "    transforms.Resize((224, 224)),\n",
    "    transforms.ToTensor(),\n",
    "    transforms.Normalize(mean=[0.485, 0.456, 0.406], std=[0.229, 0.224, 0.225])\n",
    "])"
   ]
  },
  {
   "cell_type": "code",
   "execution_count": null,
   "metadata": {},
   "outputs": [],
   "source": [
    "# Paths to the data\n",
    "train_data_path = r'C:\\Users\\Praphul\\Downloads\\Human Action Recognition_New/train'\n",
    "test_data_path = r'C:\\Users\\Praphul\\Downloads\\Human Action Recognition_New/test'"
   ]
  },
  {
   "cell_type": "code",
   "execution_count": 4,
   "metadata": {
    "execution": {
     "iopub.execute_input": "2024-06-12T10:00:17.206656Z",
     "iopub.status.busy": "2024-06-12T10:00:17.206362Z",
     "iopub.status.idle": "2024-06-12T10:00:18.408729Z",
     "shell.execute_reply": "2024-06-12T10:00:18.407920Z",
     "shell.execute_reply.started": "2024-06-12T10:00:17.206631Z"
    }
   },
   "outputs": [],
   "source": [
    "#Apply the transforms to the train and test data\n",
    "train_data = datasets.ImageFolder(root=train_data_path, transform=transform)\n",
    "test_data = datasets.ImageFolder(root=test_data_path, transform=transform)"
   ]
  },
  {
   "cell_type": "code",
   "execution_count": 5,
   "metadata": {
    "execution": {
     "iopub.execute_input": "2024-06-12T10:00:18.410107Z",
     "iopub.status.busy": "2024-06-12T10:00:18.409816Z",
     "iopub.status.idle": "2024-06-12T10:00:18.415246Z",
     "shell.execute_reply": "2024-06-12T10:00:18.414327Z",
     "shell.execute_reply.started": "2024-06-12T10:00:18.410082Z"
    }
   },
   "outputs": [],
   "source": [
    "# Create DataLoader for training and test sets\n",
    "train_loader = DataLoader(train_data, batch_size=32, shuffle=True, num_workers=4)\n",
    "test_loader = DataLoader(test_data, batch_size=32, shuffle=False, num_workers=4)"
   ]
  },
  {
   "cell_type": "markdown",
   "metadata": {},
   "source": [
    "#### Run all cells till here."
   ]
  },
  {
   "cell_type": "markdown",
   "metadata": {},
   "source": [
    "### Load the pre-trained VGG16 Model"
   ]
  },
  {
   "cell_type": "code",
   "execution_count": 6,
   "metadata": {
    "execution": {
     "iopub.execute_input": "2024-06-12T10:00:20.863594Z",
     "iopub.status.busy": "2024-06-12T10:00:20.863207Z",
     "iopub.status.idle": "2024-06-12T10:00:31.931042Z",
     "shell.execute_reply": "2024-06-12T10:00:31.930140Z",
     "shell.execute_reply.started": "2024-06-12T10:00:20.863562Z"
    }
   },
   "outputs": [
    {
     "name": "stderr",
     "output_type": "stream",
     "text": [
      "/opt/conda/lib/python3.10/site-packages/torchvision/models/_utils.py:208: UserWarning: The parameter 'pretrained' is deprecated since 0.13 and may be removed in the future, please use 'weights' instead.\n",
      "  warnings.warn(\n",
      "/opt/conda/lib/python3.10/site-packages/torchvision/models/_utils.py:223: UserWarning: Arguments other than a weight enum or `None` for 'weights' are deprecated since 0.13 and may be removed in the future. The current behavior is equivalent to passing `weights=VGG16_Weights.IMAGENET1K_V1`. You can also use `weights=VGG16_Weights.DEFAULT` to get the most up-to-date weights.\n",
      "  warnings.warn(msg)\n",
      "Downloading: \"https://download.pytorch.org/models/vgg16-397923af.pth\" to /root/.cache/torch/hub/checkpoints/vgg16-397923af.pth\n",
      "100%|██████████| 528M/528M [00:08<00:00, 62.0MB/s] \n"
     ]
    }
   ],
   "source": [
    " # Load the pre-trained VGG16 model\n",
    "vgg16 = models.vgg16(pretrained=True)\n",
    "\n",
    "# Freeze all the feature extractor layers\n",
    "for param in vgg16.features.parameters():\n",
    "    param.requires_grad = False\n",
    "\n",
    "# Modify the classifier part of the model to match the number of classes (2 classes: Cat and Dog)\n",
    "vgg16.classifier[6] = nn.Linear(4096, 5)\n",
    "\n",
    "# Ensure only the last layer is trainable\n",
    "for param in vgg16.classifier[6].parameters():\n",
    "    param.requires_grad = True\n",
    "\n",
    "# Move the model to the device\n",
    "model = vgg16.to(device)\n",
    "\n",
    "criterion = nn.CrossEntropyLoss()\n",
    "optimizer = optim.Adam(vgg16.classifier.parameters(), lr=0.001)"
   ]
  },
  {
   "cell_type": "code",
   "execution_count": 8,
   "metadata": {
    "execution": {
     "iopub.execute_input": "2024-06-12T10:00:31.940643Z",
     "iopub.status.busy": "2024-06-12T10:00:31.940360Z",
     "iopub.status.idle": "2024-06-12T10:02:13.484247Z",
     "shell.execute_reply": "2024-06-12T10:02:13.483010Z",
     "shell.execute_reply.started": "2024-06-12T10:00:31.940620Z"
    }
   },
   "outputs": [
    {
     "name": "stdout",
     "output_type": "stream",
     "text": [
      "Epoch [1/20], Train Loss: 0.8736, Train Accuracy: 78.40%\n",
      "Test Loss: 0.4842, Test Accuracy: 84.60%\n",
      "Updated best model with accuracy: 84.60%\n",
      "Epoch [2/20], Train Loss: 0.4776, Train Accuracy: 90.59%\n",
      "Test Loss: 1.1729, Test Accuracy: 86.51%\n",
      "Epoch [3/20], Train Loss: 0.6066, Train Accuracy: 92.30%\n",
      "Test Loss: 0.9904, Test Accuracy: 88.89%\n",
      "Epoch [4/20], Train Loss: 0.4328, Train Accuracy: 94.93%\n",
      "Test Loss: 1.9756, Test Accuracy: 86.19%\n",
      "Epoch [5/20], Train Loss: 0.5077, Train Accuracy: 95.80%\n",
      "Test Loss: 1.7239, Test Accuracy: 88.73%\n",
      "Epoch [6/20], Train Loss: 0.3432, Train Accuracy: 97.09%\n",
      "Test Loss: 2.1606, Test Accuracy: 88.41%\n",
      "Epoch [7/20], Train Loss: 0.3366, Train Accuracy: 97.34%\n",
      "Test Loss: 2.2679, Test Accuracy: 90.95%\n",
      "Stopping early: no improvement after five consecutive epochs.\n"
     ]
    }
   ],
   "source": [
    "\n",
    "import matplotlib.pyplot as plt\n",
    "\n",
    "# Initialize the lists to store train and test loss for each epoch\n",
    "train_losses = []\n",
    "test_losses = []\n",
    "\n",
    "# Train the model\n",
    "num_epochs = 20\n",
    "best_loss = torch.inf\n",
    "patience = 5\n",
    "epochs_since_best = 0\n",
    "\n",
    "for epoch in range(num_epochs):\n",
    "    model.train()\n",
    "    running_loss = 0.0\n",
    "    correct = 0\n",
    "    total = 0\n",
    "\n",
    "    for images, labels in train_loader:\n",
    "        images, labels = images.to(device), labels.to(device)\n",
    "        optimizer.zero_grad()\n",
    "        outputs = model(images)\n",
    "        if isinstance(outputs, tuple):\n",
    "            outputs = outputs[0]  # For models that return auxiliary outputs\n",
    "        loss = criterion(outputs, labels)\n",
    "        loss.backward()\n",
    "        optimizer.step()\n",
    "        running_loss += loss.item()\n",
    "        _, predicted = outputs.max(1)\n",
    "        total += labels.size(0)\n",
    "        correct += predicted.eq(labels).sum().item()\n",
    "\n",
    "    train_loss = running_loss / len(train_loader)\n",
    "    train_losses.append(train_loss)  # Store the train loss for this epoch\n",
    "    train_accuracy = 100. * correct / total\n",
    "\n",
    "    print(f'Epoch [{epoch + 1}/{num_epochs}], '\n",
    "          f'Train Loss: {train_loss:.4f}, Train Accuracy: {train_accuracy:.2f}%')\n",
    "\n",
    "    # Evaluate on the test set\n",
    "    model.eval()\n",
    "    test_loss = 0.0\n",
    "    correct = 0\n",
    "    total = 0\n",
    "\n",
    "    with torch.no_grad():\n",
    "        for images, labels in test_loader:\n",
    "            images, labels = images.to(device), labels.to(device)\n",
    "            outputs = model(images)\n",
    "            if isinstance(outputs, tuple):\n",
    "                outputs = outputs[0]  # For models that return auxiliary outputs\n",
    "            loss = criterion(outputs, labels)\n",
    "            test_loss += loss.item()\n",
    "            _, predicted = outputs.max(1)\n",
    "            total += labels.size(0)\n",
    "            correct += predicted.eq(labels).sum().item()\n",
    "\n",
    "    test_loss /= len(test_loader)\n",
    "    test_losses.append(test_loss)  # Store the test loss for this epoch\n",
    "    test_accuracy = 100. * correct / total\n",
    "\n",
    "    print(f'Test Loss: {test_loss:.4f}, Test Accuracy: {test_accuracy:.2f}%')\n",
    "\n",
    "    # Check for best accuracy and stop if not improved after five more epochs\n",
    "    if test_loss < best_loss:\n",
    "        best_loss = test_loss\n",
    "        epochs_since_best = 0\n",
    "        torch.save(model.state_dict(), 'best_model.pth')  # Save the model\n",
    "        print(f'Updated best model with accuracy: {test_accuracy:.2f}%')\n",
    "    else:\n",
    "        epochs_since_best += 1\n",
    "        if epochs_since_best > patience:\n",
    "            print(\"Stopping early: no improvement after five consecutive epochs.\")\n",
    "            break"
   ]
  },
  {
   "cell_type": "code",
   "execution_count": 10,
   "metadata": {
    "execution": {
     "iopub.execute_input": "2024-06-12T10:02:20.477586Z",
     "iopub.status.busy": "2024-06-12T10:02:20.477251Z",
     "iopub.status.idle": "2024-06-12T10:02:20.789119Z",
     "shell.execute_reply": "2024-06-12T10:02:20.788197Z",
     "shell.execute_reply.started": "2024-06-12T10:02:20.477552Z"
    }
   },
   "outputs": [
    {
     "data": {
      "image/png": "[encoded data removed]",
      "text/plain": [
       "<Figure size 640x480 with 1 Axes>"
      ]
     },
     "metadata": {},
     "output_type": "display_data"
    }
   ],
   "source": [
    "# Plotting the epochs vs training and test losses\n",
    "plt.plot(train_losses, label='Training Loss')\n",
    "plt.plot(test_losses, label='test Loss')\n",
    "plt.xlabel('Epochs')\n",
    "plt.ylabel('Loss')\n",
    "plt.legend()\n",
    "plt.show()"
   ]
  },
  {
   "cell_type": "code",
   "execution_count": null,
   "metadata": {},
   "outputs": [],
   "source": []
  },
  {
   "cell_type": "code",
   "execution_count": null,
   "metadata": {},
   "outputs": [],
   "source": []
  },
  {
   "cell_type": "code",
   "execution_count": null,
   "metadata": {},
   "outputs": [],
   "source": []
  },
  {
   "cell_type": "code",
   "execution_count": null,
   "metadata": {},
   "outputs": [],
   "source": []
  },
  {
   "cell_type": "code",
   "execution_count": null,
   "metadata": {},
   "outputs": [],
   "source": []
  }
 ],
 "metadata": {
  "kaggle": {
   "accelerator": "gpu",
   "dataSources": [
    {
     "datasetId": 5190427,
     "sourceId": 8662681,
     "sourceType": "datasetVersion"
    },
    {
     "datasetId": 5190742,
     "sourceId": 8663090,
     "sourceType": "datasetVersion"
    }
   ],
   "dockerImageVersionId": 30733,
   "isGpuEnabled": true,
   "isInternetEnabled": true,
   "language": "python",
   "sourceType": "notebook"
  },
  "kernelspec": {
   "display_name": "Python 3 (ipykernel)",
   "language": "python",
   "name": "python3"
  },
  "language_info": {
   "codemirror_mode": {
    "name": "ipython",
    "version": 3
   },
   "file_extension": ".py",
   "mimetype": "text/x-python",
   "name": "python",
   "nbconvert_exporter": "python",
   "pygments_lexer": "ipython3",
   "version": "3.11.7"
  }
 },
 "nbformat": 4,
 "nbformat_minor": 4
}
