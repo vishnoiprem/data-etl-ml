{
 "cells": [
  {
   "cell_type": "markdown",
   "id": "98ddfc72",
   "metadata": {},
   "source": [
    "# Building an Image Classification Model Using AlexNet"
   ]
  },
  {
   "cell_type": "code",
   "execution_count": 67,
   "id": "af416ba6",
   "metadata": {
    "execution": {
     "iopub.execute_input": "2024-06-12T05:58:03.104903Z",
     "iopub.status.busy": "2024-06-12T05:58:03.104551Z",
     "iopub.status.idle": "2024-06-12T05:58:03.109399Z",
     "shell.execute_reply": "2024-06-12T05:58:03.108461Z",
     "shell.execute_reply.started": "2024-06-12T05:58:03.104875Z"
    }
   },
   "outputs": [],
   "source": [
    "import os\n",
    "import torch\n",
    "from torchvision import datasets, transforms\n",
    "from torch.utils.data import DataLoader"
   ]
  },
  {
   "cell_type": "code",
   "execution_count": 68,
   "id": "64ad2adc",
   "metadata": {
    "execution": {
     "iopub.execute_input": "2024-06-12T05:58:03.574272Z",
     "iopub.status.busy": "2024-06-12T05:58:03.573576Z",
     "iopub.status.idle": "2024-06-12T05:58:03.579668Z",
     "shell.execute_reply": "2024-06-12T05:58:03.578642Z",
     "shell.execute_reply.started": "2024-06-12T05:58:03.574239Z"
    }
   },
   "outputs": [],
   "source": [
    "# Define transformations for the training and validation sets\n",
    "transform = transforms.Compose([\n",
    "    transforms.Resize((227, 227)), #Alexnet expects an input size of 227 x 227 x 3\n",
    "    transforms.ToTensor(),\n",
    "    transforms.Normalize(mean=(0.5,0.5,0.5), std=(0.5,0.5,0.5)) \n",
    "])"
   ]
  },
  {
   "cell_type": "code",
   "execution_count": 69,
   "id": "a875f52c",
   "metadata": {
    "execution": {
     "iopub.execute_input": "2024-06-12T05:58:04.672344Z",
     "iopub.status.busy": "2024-06-12T05:58:04.671964Z",
     "iopub.status.idle": "2024-06-12T05:58:04.676476Z",
     "shell.execute_reply": "2024-06-12T05:58:04.675577Z",
     "shell.execute_reply.started": "2024-06-12T05:58:04.672318Z"
    }
   },
   "outputs": [],
   "source": [
    "# Paths to the data\n",
    "train_data_path = r'C:\\Users\\Praphul\\Downloads\\Human Action Recognition_New/train'\n",
    "test_data_path = r'C:\\Users\\Praphul\\Downloads\\Human Action Recognition_New/test'"
   ]
  },
  {
   "cell_type": "code",
   "execution_count": 70,
   "id": "d3993fb9",
   "metadata": {
    "execution": {
     "iopub.execute_input": "2024-06-12T05:58:04.853590Z",
     "iopub.status.busy": "2024-06-12T05:58:04.853282Z",
     "iopub.status.idle": "2024-06-12T05:58:04.887115Z",
     "shell.execute_reply": "2024-06-12T05:58:04.886217Z",
     "shell.execute_reply.started": "2024-06-12T05:58:04.853567Z"
    }
   },
   "outputs": [],
   "source": [
    "#Apply the transforms to the train and test data\n",
    "train_data = datasets.ImageFolder(root=train_data_path, transform=transform)\n",
    "test_data = datasets.ImageFolder(root=test_data_path, transform=transform)"
   ]
  },
  {
   "cell_type": "markdown",
   "id": "102d2298",
   "metadata": {},
   "source": [
    "##### Run all the cells above till here"
   ]
  },
  {
   "cell_type": "markdown",
   "id": "d5ea661b",
   "metadata": {},
   "source": [
    "### AlexNet Architecture"
   ]
  },
  {
   "cell_type": "code",
   "execution_count": 80,
   "id": "c51005e0",
   "metadata": {
    "execution": {
     "iopub.execute_input": "2024-06-12T06:19:33.775306Z",
     "iopub.status.busy": "2024-06-12T06:19:33.774595Z",
     "iopub.status.idle": "2024-06-12T06:19:33.786052Z",
     "shell.execute_reply": "2024-06-12T06:19:33.785175Z",
     "shell.execute_reply.started": "2024-06-12T06:19:33.775274Z"
    }
   },
   "outputs": [],
   "source": [
    "import torch.nn as nn\n",
    "import torch.nn.functional as F\n",
    "\n",
    "class AlexNet(nn.Module):\n",
    "    def __init__(self, num_classes=5):\n",
    "        super(AlexNet, self).__init__()\n",
    "        self.features = nn.Sequential(\n",
    "            nn.Conv2d(3, 64, kernel_size=11, stride=4, padding=2),\n",
    "            nn.ReLU(inplace=True),\n",
    "            nn.MaxPool2d(kernel_size=3, stride=2),\n",
    "            nn.Conv2d(64, 192, kernel_size=5, padding=2),\n",
    "            nn.ReLU(inplace=True),\n",
    "            nn.MaxPool2d(kernel_size=3, stride=2),\n",
    "            nn.Conv2d(192, 384, kernel_size=3, padding=1),\n",
    "            nn.ReLU(inplace=True),\n",
    "            nn.Conv2d(384, 256, kernel_size=3, padding=1),\n",
    "            nn.ReLU(inplace=True),\n",
    "            nn.Conv2d(256, 256, kernel_size=3, padding=1),\n",
    "            nn.ReLU(inplace=True),\n",
    "            nn.MaxPool2d(kernel_size=3, stride=2),\n",
    "        )\n",
    "        \n",
    "        # Calculate the size of the feature map after the last pooling layer\n",
    "        self.fc_input_dim = 256 * 6 * 6  # This is for input size 224x224\n",
    "        \n",
    "        self.classifier = nn.Sequential(\n",
    "            nn.Dropout(),\n",
    "            nn.Linear(self.fc_input_dim, 4096),\n",
    "            nn.ReLU(inplace=True),\n",
    "            nn.Dropout(),\n",
    "            nn.Linear(4096, 4096),\n",
    "            nn.ReLU(inplace=True),\n",
    "            nn.Linear(4096, num_classes),\n",
    "        )\n",
    "\n",
    "    def forward(self, x):\n",
    "        x = self.features(x)\n",
    "        x = x.view(x.size(0), -1)  # Flatten the tensor\n",
    "        x = self.classifier(x)\n",
    "        return x"
   ]
  },
  {
   "cell_type": "markdown",
   "id": "723ae626",
   "metadata": {},
   "source": [
    "Changes in the architecture are as follows:\n",
    "\n",
    "\n",
    "1)__Increased Depth of Convolutional Layers:__ The AlexNet model uses more layers and deeper configurations. Starting with fewer feature channels, it progressively increases the depth across its layers. This contrasts sharply with LeNet, which uses a much simpler and shallower layer structure.\n",
    "\n",
    "\n",
    "2)__Use of Batch Normalization:__ Each convolutional layer in AlexNet is followed by batch normalization, which helps in stabilizing the learning process by normalizing the input layer by adjusting and scaling activations. LeNet does not include batch normalization, which makes AlexNet better suited for training on larger datasets and more complex models.\n",
    "\n",
    "\n",
    "3)__Advanced Activation Functions:__ AlexNet incorporates the ReLU (Rectified Linear Unit) activation function throughout its architecture, which helps to solve the vanishing gradient problem common in networks using sigmoid or tanh functions. LeNet traditionally uses sigmoid or tanh, which are less effective at preserving gradients during deep learning training.\n",
    "\n",
    "\n",
    "4)__Increased and Varied Pooling Layers:__ AlexNet includes multiple max pooling layers that perform downsampling operation more frequently compared to LeNet. This reduces the spatial size of the representation, decreases the number of parameters and computation in the network, and hence, also controls overfitting.\n",
    "\n",
    "\n",
    "5)__Integration of Dropout:__ In the classifier section of AlexNet, dropout layers are introduced. Dropout is a form of regularization that helps in preventing overfitting by randomly setting a fraction of input units to 0 at each update during training time, which helps in making the model robust and less likely to rely on any one feature.\n",
    "\n",
    "\n",
    "6)__Complex Classifier Structure:__ AlexNet's classifier is more complex, using three fully connected layers with dropout and ReLU activation functions between them. This is a significant escalation from LeNet’s typically one or two-layer classifiers. This complexity allows AlexNet to make more fine-grained classifications based on the richer feature hierarchies developed in the convolutional layers.\n",
    "\n",
    "\n",
    "7)__Scalability to Higher Resolution Inputs:__ AlexNet is structured to handle higher resolution input images better than LeNet. The initial convolutional layer uses a larger receptive field (11x11 with a stride of 4), which is suitable for larger input images, whereas LeNet is optimized for smaller images typical of earlier datasets like MNIST.\n"
   ]
  },
  {
   "cell_type": "code",
   "execution_count": 81,
   "id": "359191a1",
   "metadata": {
    "execution": {
     "iopub.execute_input": "2024-06-12T06:19:35.294289Z",
     "iopub.status.busy": "2024-06-12T06:19:35.293733Z",
     "iopub.status.idle": "2024-06-12T06:19:35.298731Z",
     "shell.execute_reply": "2024-06-12T06:19:35.297816Z",
     "shell.execute_reply.started": "2024-06-12T06:19:35.294255Z"
    }
   },
   "outputs": [],
   "source": [
    "# Check if GPU is available\n",
    "device = torch.device(\"cuda\" if torch.cuda.is_available() else \"cpu\")"
   ]
  },
  {
   "cell_type": "code",
   "execution_count": 82,
   "id": "e2b2fb5f",
   "metadata": {
    "execution": {
     "iopub.execute_input": "2024-06-12T06:19:35.604512Z",
     "iopub.status.busy": "2024-06-12T06:19:35.604154Z",
     "iopub.status.idle": "2024-06-12T06:19:35.610319Z",
     "shell.execute_reply": "2024-06-12T06:19:35.609455Z",
     "shell.execute_reply.started": "2024-06-12T06:19:35.604484Z"
    }
   },
   "outputs": [
    {
     "data": {
      "text/plain": [
       "device(type='cuda')"
      ]
     },
     "execution_count": 82,
     "metadata": {},
     "output_type": "execute_result"
    }
   ],
   "source": [
    "device"
   ]
  },
  {
   "cell_type": "code",
   "execution_count": 83,
   "id": "d3cf559e",
   "metadata": {
    "execution": {
     "iopub.execute_input": "2024-06-12T06:19:36.547761Z",
     "iopub.status.busy": "2024-06-12T06:19:36.547400Z",
     "iopub.status.idle": "2024-06-12T06:19:37.182821Z",
     "shell.execute_reply": "2024-06-12T06:19:37.182054Z",
     "shell.execute_reply.started": "2024-06-12T06:19:36.547732Z"
    }
   },
   "outputs": [],
   "source": [
    "# Initialize the model\n",
    "model = AlexNet().to(device)"
   ]
  },
  {
   "cell_type": "code",
   "execution_count": 84,
   "id": "3c52cf7a",
   "metadata": {
    "execution": {
     "iopub.execute_input": "2024-06-12T06:19:37.184648Z",
     "iopub.status.busy": "2024-06-12T06:19:37.184352Z",
     "iopub.status.idle": "2024-06-12T06:19:37.190031Z",
     "shell.execute_reply": "2024-06-12T06:19:37.189241Z",
     "shell.execute_reply.started": "2024-06-12T06:19:37.184624Z"
    }
   },
   "outputs": [],
   "source": [
    "import torch.optim as optim\n",
    "\n",
    "# Define loss function and optimizer\n",
    "criterion = nn.CrossEntropyLoss()\n",
    "optimizer = optim.Adam(model.parameters())"
   ]
  },
  {
   "cell_type": "code",
   "execution_count": 85,
   "id": "700dfd31",
   "metadata": {
    "execution": {
     "iopub.execute_input": "2024-06-12T06:19:37.945409Z",
     "iopub.status.busy": "2024-06-12T06:19:37.944780Z",
     "iopub.status.idle": "2024-06-12T06:19:37.950185Z",
     "shell.execute_reply": "2024-06-12T06:19:37.948995Z",
     "shell.execute_reply.started": "2024-06-12T06:19:37.945377Z"
    }
   },
   "outputs": [],
   "source": [
    "# Create DataLoader for training and validation sets\n",
    "train_loader = DataLoader(train_data, batch_size=32, shuffle=True)\n",
    "test_loader = DataLoader(test_data, batch_size=32, shuffle=False)"
   ]
  },
  {
   "cell_type": "code",
   "execution_count": 86,
   "id": "1f5f8de6",
   "metadata": {
    "execution": {
     "iopub.execute_input": "2024-06-12T06:19:38.689962Z",
     "iopub.status.busy": "2024-06-12T06:19:38.689611Z",
     "iopub.status.idle": "2024-06-12T06:24:58.912656Z",
     "shell.execute_reply": "2024-06-12T06:24:58.911653Z",
     "shell.execute_reply.started": "2024-06-12T06:19:38.689933Z"
    },
    "scrolled": true
   },
   "outputs": [
    {
     "name": "stderr",
     "output_type": "stream",
     "text": [
      "100%|██████████| 112/112 [00:16<00:00,  6.93it/s]\n"
     ]
    },
    {
     "name": "stdout",
     "output_type": "stream",
     "text": [
      "Epoch [1/20], Train Loss: 1.6337, Train Accuracy: 20.76%\n",
      "Test Loss: 1.6051, Test Accuracy: 20.00%\n",
      "Updated best model with accuracy: 20.00%\n"
     ]
    },
    {
     "name": "stderr",
     "output_type": "stream",
     "text": [
      "100%|██████████| 112/112 [00:13<00:00,  8.52it/s]\n"
     ]
    },
    {
     "name": "stdout",
     "output_type": "stream",
     "text": [
      "Epoch [2/20], Train Loss: 1.5868, Train Accuracy: 25.55%\n",
      "Test Loss: 1.5803, Test Accuracy: 24.92%\n",
      "Updated best model with accuracy: 24.92%\n"
     ]
    },
    {
     "name": "stderr",
     "output_type": "stream",
     "text": [
      "100%|██████████| 112/112 [00:13<00:00,  8.29it/s]\n"
     ]
    },
    {
     "name": "stdout",
     "output_type": "stream",
     "text": [
      "Epoch [3/20], Train Loss: 1.5534, Train Accuracy: 28.60%\n",
      "Test Loss: 1.5811, Test Accuracy: 25.08%\n"
     ]
    },
    {
     "name": "stderr",
     "output_type": "stream",
     "text": [
      "100%|██████████| 112/112 [00:13<00:00,  8.34it/s]\n"
     ]
    },
    {
     "name": "stdout",
     "output_type": "stream",
     "text": [
      "Epoch [4/20], Train Loss: 1.5866, Train Accuracy: 24.73%\n",
      "Test Loss: 1.6176, Test Accuracy: 22.86%\n"
     ]
    },
    {
     "name": "stderr",
     "output_type": "stream",
     "text": [
      "100%|██████████| 112/112 [00:13<00:00,  8.46it/s]\n"
     ]
    },
    {
     "name": "stdout",
     "output_type": "stream",
     "text": [
      "Epoch [5/20], Train Loss: 1.5812, Train Accuracy: 24.87%\n",
      "Test Loss: 1.5651, Test Accuracy: 25.71%\n",
      "Updated best model with accuracy: 25.71%\n"
     ]
    },
    {
     "name": "stderr",
     "output_type": "stream",
     "text": [
      "100%|██████████| 112/112 [00:13<00:00,  8.38it/s]\n"
     ]
    },
    {
     "name": "stdout",
     "output_type": "stream",
     "text": [
      "Epoch [6/20], Train Loss: 1.5842, Train Accuracy: 24.99%\n",
      "Test Loss: 1.5626, Test Accuracy: 26.03%\n",
      "Updated best model with accuracy: 26.03%\n"
     ]
    },
    {
     "name": "stderr",
     "output_type": "stream",
     "text": [
      "100%|██████████| 112/112 [00:13<00:00,  8.35it/s]\n"
     ]
    },
    {
     "name": "stdout",
     "output_type": "stream",
     "text": [
      "Epoch [7/20], Train Loss: 1.5633, Train Accuracy: 28.54%\n",
      "Test Loss: 1.5572, Test Accuracy: 27.46%\n",
      "Updated best model with accuracy: 27.46%\n"
     ]
    },
    {
     "name": "stderr",
     "output_type": "stream",
     "text": [
      "100%|██████████| 112/112 [00:13<00:00,  8.23it/s]\n"
     ]
    },
    {
     "name": "stdout",
     "output_type": "stream",
     "text": [
      "Epoch [8/20], Train Loss: 1.5460, Train Accuracy: 29.72%\n",
      "Test Loss: 1.4977, Test Accuracy: 34.13%\n",
      "Updated best model with accuracy: 34.13%\n"
     ]
    },
    {
     "name": "stderr",
     "output_type": "stream",
     "text": [
      "100%|██████████| 112/112 [00:13<00:00,  8.26it/s]\n"
     ]
    },
    {
     "name": "stdout",
     "output_type": "stream",
     "text": [
      "Epoch [9/20], Train Loss: 1.5519, Train Accuracy: 29.27%\n",
      "Test Loss: 1.5659, Test Accuracy: 27.78%\n"
     ]
    },
    {
     "name": "stderr",
     "output_type": "stream",
     "text": [
      "100%|██████████| 112/112 [00:13<00:00,  8.34it/s]\n"
     ]
    },
    {
     "name": "stdout",
     "output_type": "stream",
     "text": [
      "Epoch [10/20], Train Loss: 1.5052, Train Accuracy: 33.36%\n",
      "Test Loss: 1.5224, Test Accuracy: 33.17%\n"
     ]
    },
    {
     "name": "stderr",
     "output_type": "stream",
     "text": [
      "100%|██████████| 112/112 [00:13<00:00,  8.16it/s]\n"
     ]
    },
    {
     "name": "stdout",
     "output_type": "stream",
     "text": [
      "Epoch [11/20], Train Loss: 1.4429, Train Accuracy: 37.42%\n",
      "Test Loss: 1.5432, Test Accuracy: 36.67%\n"
     ]
    },
    {
     "name": "stderr",
     "output_type": "stream",
     "text": [
      "100%|██████████| 112/112 [00:13<00:00,  8.19it/s]\n"
     ]
    },
    {
     "name": "stdout",
     "output_type": "stream",
     "text": [
      "Epoch [12/20], Train Loss: 1.4048, Train Accuracy: 39.97%\n",
      "Test Loss: 1.3843, Test Accuracy: 42.54%\n",
      "Updated best model with accuracy: 42.54%\n"
     ]
    },
    {
     "name": "stderr",
     "output_type": "stream",
     "text": [
      "100%|██████████| 112/112 [00:13<00:00,  8.43it/s]\n"
     ]
    },
    {
     "name": "stdout",
     "output_type": "stream",
     "text": [
      "Epoch [13/20], Train Loss: 1.3495, Train Accuracy: 44.01%\n",
      "Test Loss: 1.3107, Test Accuracy: 47.30%\n",
      "Updated best model with accuracy: 47.30%\n"
     ]
    },
    {
     "name": "stderr",
     "output_type": "stream",
     "text": [
      "100%|██████████| 112/112 [00:13<00:00,  8.32it/s]\n"
     ]
    },
    {
     "name": "stdout",
     "output_type": "stream",
     "text": [
      "Epoch [14/20], Train Loss: 1.3137, Train Accuracy: 46.05%\n",
      "Test Loss: 1.3989, Test Accuracy: 47.46%\n"
     ]
    },
    {
     "name": "stderr",
     "output_type": "stream",
     "text": [
      "100%|██████████| 112/112 [00:13<00:00,  8.08it/s]\n"
     ]
    },
    {
     "name": "stdout",
     "output_type": "stream",
     "text": [
      "Epoch [15/20], Train Loss: 1.2797, Train Accuracy: 47.31%\n",
      "Test Loss: 1.3353, Test Accuracy: 43.33%\n"
     ]
    },
    {
     "name": "stderr",
     "output_type": "stream",
     "text": [
      "100%|██████████| 112/112 [00:14<00:00,  8.00it/s]\n"
     ]
    },
    {
     "name": "stdout",
     "output_type": "stream",
     "text": [
      "Epoch [16/20], Train Loss: 1.2196, Train Accuracy: 52.02%\n",
      "Test Loss: 1.2385, Test Accuracy: 51.43%\n",
      "Updated best model with accuracy: 51.43%\n"
     ]
    },
    {
     "name": "stderr",
     "output_type": "stream",
     "text": [
      "100%|██████████| 112/112 [00:13<00:00,  8.12it/s]\n"
     ]
    },
    {
     "name": "stdout",
     "output_type": "stream",
     "text": [
      "Epoch [17/20], Train Loss: 1.1873, Train Accuracy: 52.89%\n",
      "Test Loss: 1.3325, Test Accuracy: 48.41%\n"
     ]
    },
    {
     "name": "stderr",
     "output_type": "stream",
     "text": [
      "100%|██████████| 112/112 [00:13<00:00,  8.44it/s]\n"
     ]
    },
    {
     "name": "stdout",
     "output_type": "stream",
     "text": [
      "Epoch [18/20], Train Loss: 1.1694, Train Accuracy: 53.22%\n",
      "Test Loss: 1.2596, Test Accuracy: 52.54%\n"
     ]
    },
    {
     "name": "stderr",
     "output_type": "stream",
     "text": [
      "100%|██████████| 112/112 [00:13<00:00,  8.09it/s]\n"
     ]
    },
    {
     "name": "stdout",
     "output_type": "stream",
     "text": [
      "Epoch [19/20], Train Loss: 1.0846, Train Accuracy: 56.92%\n",
      "Test Loss: 1.2143, Test Accuracy: 53.02%\n",
      "Updated best model with accuracy: 53.02%\n"
     ]
    },
    {
     "name": "stderr",
     "output_type": "stream",
     "text": [
      "100%|██████████| 112/112 [00:13<00:00,  8.27it/s]\n"
     ]
    },
    {
     "name": "stdout",
     "output_type": "stream",
     "text": [
      "Epoch [20/20], Train Loss: 1.0638, Train Accuracy: 57.23%\n",
      "Test Loss: 1.2496, Test Accuracy: 52.38%\n"
     ]
    }
   ],
   "source": [
    "import torch\n",
    "from tqdm import tqdm\n",
    "import matplotlib.pyplot as plt\n",
    "\n",
    "# Initialize the lists to store train and test loss for each epoch\n",
    "train_losses = []\n",
    "test_losses = []\n",
    "\n",
    "# Train the model\n",
    "num_epochs = 20\n",
    "best_loss = torch.inf\n",
    "patience = 5\n",
    "epochs_since_best = 0\n",
    "\n",
    "for epoch in range(num_epochs):\n",
    "    model.train()\n",
    "    running_loss = 0.0\n",
    "    correct = 0\n",
    "    total = 0\n",
    "\n",
    "    for images, labels in tqdm(train_loader):\n",
    "        images, labels = images.to(device), labels.to(device)\n",
    "        optimizer.zero_grad()\n",
    "        outputs = model(images)\n",
    "        if isinstance(outputs, tuple):\n",
    "            outputs = outputs[0]  # For models that return auxiliary outputs\n",
    "        loss = criterion(outputs, labels)\n",
    "        loss.backward()\n",
    "        optimizer.step()\n",
    "        running_loss += loss.item()\n",
    "        _, predicted = outputs.max(1)\n",
    "        total += labels.size(0)\n",
    "        correct += predicted.eq(labels).sum().item()\n",
    "\n",
    "    train_loss = running_loss / len(train_loader)\n",
    "    train_losses.append(train_loss)  # Store the train loss for this epoch\n",
    "    train_accuracy = 100. * correct / total\n",
    "\n",
    "    print(f'Epoch [{epoch + 1}/{num_epochs}], '\n",
    "          f'Train Loss: {train_loss:.4f}, Train Accuracy: {train_accuracy:.2f}%')\n",
    "\n",
    "    # Evaluate on the test set\n",
    "    model.eval()\n",
    "    test_loss = 0.0\n",
    "    correct = 0\n",
    "    total = 0\n",
    "\n",
    "    with torch.no_grad():\n",
    "        for images, labels in test_loader:\n",
    "            images, labels = images.to(device), labels.to(device)\n",
    "            outputs = model(images)\n",
    "            if isinstance(outputs, tuple):\n",
    "                outputs = outputs[0]  # For models that return auxiliary outputs\n",
    "            loss = criterion(outputs, labels)\n",
    "            test_loss += loss.item()\n",
    "            _, predicted = outputs.max(1)\n",
    "            total += labels.size(0)\n",
    "            correct += predicted.eq(labels).sum().item()\n",
    "\n",
    "    test_loss /= len(test_loader)\n",
    "    test_losses.append(test_loss)  # Store the test loss for this epoch\n",
    "    test_accuracy = 100. * correct / total\n",
    "\n",
    "    print(f'Test Loss: {test_loss:.4f}, Test Accuracy: {test_accuracy:.2f}%')\n",
    "\n",
    "    # Check for best accuracy and stop if not improved after five more epochs\n",
    "    if test_loss < best_loss:\n",
    "        best_loss = test_loss\n",
    "        epochs_since_best = 0\n",
    "        torch.save(model.state_dict(), 'best_model.pth')  # Save the model\n",
    "        print(f'Updated best model with accuracy: {test_accuracy:.2f}%')\n",
    "    else:\n",
    "        epochs_since_best += 1\n",
    "        if epochs_since_best > patience:\n",
    "            print(\"Stopping early: no improvement after five consecutive epochs.\")\n",
    "            break"
   ]
  },
  {
   "cell_type": "markdown",
   "id": "50172230",
   "metadata": {},
   "source": [
    "### Plot: Epochs vs Train Loss and Test"
   ]
  },
  {
   "cell_type": "code",
   "execution_count": 88,
   "id": "ddf0b9e5",
   "metadata": {
    "execution": {
     "iopub.execute_input": "2024-06-12T06:25:07.615377Z",
     "iopub.status.busy": "2024-06-12T06:25:07.614510Z",
     "iopub.status.idle": "2024-06-12T06:25:07.884759Z",
     "shell.execute_reply": "2024-06-12T06:25:07.883929Z",
     "shell.execute_reply.started": "2024-06-12T06:25:07.615324Z"
    }
   },
   "outputs": [
    {
     "data": {
      "image/png": "[encoded data removed]",
      "text/plain": [
       "<Figure size 640x480 with 1 Axes>"
      ]
     },
     "metadata": {},
     "output_type": "display_data"
    }
   ],
   "source": [
    "# Plotting the training and validation losses\n",
    "plt.plot(train_losses, label='Training Loss')\n",
    "plt.plot(test_losses, label='Test Loss')\n",
    "plt.xlabel('Epochs')\n",
    "plt.ylabel('Loss')\n",
    "plt.legend()\n",
    "plt.show()"
   ]
  }
 ],
 "metadata": {
  "kaggle": {
   "accelerator": "gpu",
   "dataSources": [
    {
     "datasetId": 5190427,
     "sourceId": 8662681,
     "sourceType": "datasetVersion"
    }
   ],
   "dockerImageVersionId": 30733,
   "isGpuEnabled": true,
   "isInternetEnabled": true,
   "language": "python",
   "sourceType": "notebook"
  },
  "kernelspec": {
   "display_name": "Python 3 (ipykernel)",
   "language": "python",
   "name": "python3"
  },
  "language_info": {
   "codemirror_mode": {
    "name": "ipython",
    "version": 3
   },
   "file_extension": ".py",
   "mimetype": "text/x-python",
   "name": "python",
   "nbconvert_exporter": "python",
   "pygments_lexer": "ipython3",
   "version": "3.11.7"
  }
 },
 "nbformat": 4,
 "nbformat_minor": 5
}
