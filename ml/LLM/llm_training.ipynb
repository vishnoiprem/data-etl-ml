{
 "cells": [
  {
   "cell_type": "markdown",
   "id": "5369b13a6892ac24",
   "metadata": {},
   "source": [
    "!pip install transformers torch pandas numpy"
   ]
  },
  {
   "cell_type": "code",
   "execution_count": 2,
   "id": "1cc4dc3da44a6275",
   "metadata": {
    "ExecuteTime": {
     "end_time": "2024-10-09T15:00:21.602499Z",
     "start_time": "2024-10-09T15:00:21.598648Z"
    }
   },
   "outputs": [
    {
     "name": "stdout",
     "output_type": "stream",
     "text": [
      "1\n"
     ]
    }
   ],
   "source": [
    "print(1)"
   ]
  },
  {
   "cell_type": "code",
   "execution_count": 1,
   "id": "3c645e8f2df81f6",
   "metadata": {},
   "outputs": [
    {
     "name": "stdout",
     "output_type": "stream",
     "text": [
      "Requirement already satisfied: transformers in /Users/pvishnoi/PycharmProjects/data-etl-ml/venv/lib/python3.9/site-packages (4.45.1)\n",
      "Requirement already satisfied: torch in /Users/pvishnoi/PycharmProjects/data-etl-ml/venv/lib/python3.9/site-packages (2.4.1)\n",
      "Requirement already satisfied: pandas in /Users/pvishnoi/PycharmProjects/data-etl-ml/venv/lib/python3.9/site-packages (2.1.4)\n",
      "Requirement already satisfied: numpy in /Users/pvishnoi/PycharmProjects/data-etl-ml/venv/lib/python3.9/site-packages (1.24.4)\n",
      "Requirement already satisfied: filelock in /Users/pvishnoi/PycharmProjects/data-etl-ml/venv/lib/python3.9/site-packages (from transformers) (3.16.1)\n",
      "Requirement already satisfied: huggingface-hub<1.0,>=0.23.2 in /Users/pvishnoi/PycharmProjects/data-etl-ml/venv/lib/python3.9/site-packages (from transformers) (0.25.1)\n",
      "Requirement already satisfied: packaging>=20.0 in /Users/pvishnoi/PycharmProjects/data-etl-ml/venv/lib/python3.9/site-packages (from transformers) (24.1)\n",
      "Requirement already satisfied: pyyaml>=5.1 in /Users/pvishnoi/PycharmProjects/data-etl-ml/venv/lib/python3.9/site-packages (from transformers) (6.0.2)\n",
      "Requirement already satisfied: regex!=2019.12.17 in /Users/pvishnoi/PycharmProjects/data-etl-ml/venv/lib/python3.9/site-packages (from transformers) (2024.7.24)\n",
      "Requirement already satisfied: requests in /Users/pvishnoi/PycharmProjects/data-etl-ml/venv/lib/python3.9/site-packages (from transformers) (2.32.3)\n",
      "Requirement already satisfied: safetensors>=0.4.1 in /Users/pvishnoi/PycharmProjects/data-etl-ml/venv/lib/python3.9/site-packages (from transformers) (0.4.5)\n",
      "Requirement already satisfied: tokenizers<0.21,>=0.20 in /Users/pvishnoi/PycharmProjects/data-etl-ml/venv/lib/python3.9/site-packages (from transformers) (0.20.0)\n",
      "Requirement already satisfied: tqdm>=4.27 in /Users/pvishnoi/PycharmProjects/data-etl-ml/venv/lib/python3.9/site-packages (from transformers) (4.66.5)\n",
      "Requirement already satisfied: typing-extensions>=4.8.0 in /Users/pvishnoi/PycharmProjects/data-etl-ml/venv/lib/python3.9/site-packages (from torch) (4.12.2)\n",
      "Requirement already satisfied: sympy in /Users/pvishnoi/PycharmProjects/data-etl-ml/venv/lib/python3.9/site-packages (from torch) (1.13.2)\n",
      "Requirement already satisfied: networkx in /Users/pvishnoi/PycharmProjects/data-etl-ml/venv/lib/python3.9/site-packages (from torch) (3.2.1)\n",
      "Requirement already satisfied: jinja2 in /Users/pvishnoi/PycharmProjects/data-etl-ml/venv/lib/python3.9/site-packages (from torch) (3.1.4)\n",
      "Requirement already satisfied: fsspec in /Users/pvishnoi/PycharmProjects/data-etl-ml/venv/lib/python3.9/site-packages (from torch) (2024.9.0)\n",
      "Requirement already satisfied: python-dateutil>=2.8.2 in /Users/pvishnoi/PycharmProjects/data-etl-ml/venv/lib/python3.9/site-packages (from pandas) (2.9.0.post0)\n",
      "Requirement already satisfied: pytz>=2020.1 in /Users/pvishnoi/PycharmProjects/data-etl-ml/venv/lib/python3.9/site-packages (from pandas) (2024.1)\n",
      "Requirement already satisfied: tzdata>=2022.1 in /Users/pvishnoi/PycharmProjects/data-etl-ml/venv/lib/python3.9/site-packages (from pandas) (2024.1)\n",
      "Requirement already satisfied: six>=1.5 in /Users/pvishnoi/PycharmProjects/data-etl-ml/venv/lib/python3.9/site-packages (from python-dateutil>=2.8.2->pandas) (1.16.0)\n",
      "Requirement already satisfied: MarkupSafe>=2.0 in /Users/pvishnoi/PycharmProjects/data-etl-ml/venv/lib/python3.9/site-packages (from jinja2->torch) (2.1.5)\n",
      "Requirement already satisfied: charset-normalizer<4,>=2 in /Users/pvishnoi/PycharmProjects/data-etl-ml/venv/lib/python3.9/site-packages (from requests->transformers) (3.3.2)\n",
      "Requirement already satisfied: idna<4,>=2.5 in /Users/pvishnoi/PycharmProjects/data-etl-ml/venv/lib/python3.9/site-packages (from requests->transformers) (3.8)\n",
      "Requirement already satisfied: urllib3<3,>=1.21.1 in /Users/pvishnoi/PycharmProjects/data-etl-ml/venv/lib/python3.9/site-packages (from requests->transformers) (2.2.2)\n",
      "Requirement already satisfied: certifi>=2017.4.17 in /Users/pvishnoi/PycharmProjects/data-etl-ml/venv/lib/python3.9/site-packages (from requests->transformers) (2024.8.30)\n",
      "Requirement already satisfied: mpmath<1.4,>=1.1.0 in /Users/pvishnoi/PycharmProjects/data-etl-ml/venv/lib/python3.9/site-packages (from sympy->torch) (1.3.0)\n"
     ]
    }
   ],
   "source": [
    "!pip install transformers torch pandas numpy"
   ]
  },
  {
   "cell_type": "code",
   "execution_count": 2,
   "id": "835ce520-fc98-49f9-8458-1413af49a83b",
   "metadata": {},
   "outputs": [
    {
     "name": "stderr",
     "output_type": "stream",
     "text": [
      "/Users/pvishnoi/PycharmProjects/data-etl-ml/venv/lib/python3.9/site-packages/urllib3/__init__.py:35: NotOpenSSLWarning: urllib3 v2 only supports OpenSSL 1.1.1+, currently the 'ssl' module is compiled with 'LibreSSL 2.8.3'. See: https://github.com/urllib3/urllib3/issues/3020\n",
      "  warnings.warn(\n"
     ]
    }
   ],
   "source": [
    "import torch\n",
    "from torch.utils.data import Dataset, DataLoader\n",
    "from transformers import GPT2Tokenizer, GPT2LMHeadModel, AdamW, get_linear_schedule_with_warmup\n",
    "import pandas as pd\n",
    "import numpy as np"
   ]
  },
  {
   "cell_type": "code",
   "execution_count": 4,
   "id": "adfdfe29-0619-4362-82ba-afa2d3097430",
   "metadata": {},
   "outputs": [],
   "source": [
    "class TextDataset(Dataset):\n",
    "    def __init__(self, tokenizer, file_path, block_size=512):\n",
    "        # Read and load the dataset\n",
    "        self.examples = []\n",
    "        with open(file_path, encoding='utf-8') as f:\n",
    "            text = f.read()\n",
    "        \n",
    "        # Tokenize the text and create blocks of data\n",
    "        tokenized_text = tokenizer.convert_tokens_to_ids(tokenizer.tokenize(text))\n",
    "        for i in range(0, len(tokenized_text) - block_size + 1, block_size):\n",
    "            self.examples.append(tokenizer.build_inputs_with_special_tokens(tokenized_text[i:i + block_size]))\n",
    "\n",
    "    def __len__(self):\n",
    "        return len(self.examples)\n",
    "\n",
    "    def __getitem__(self, i):\n",
    "        return torch.tensor(self.examples[i], dtype=torch.long)\n"
   ]
  },
  {
   "cell_type": "code",
   "execution_count": 6,
   "id": "92d2d469-ad5f-4bcd-bff5-fc8c9baeff9a",
   "metadata": {},
   "outputs": [],
   "source": [
    "# Initialize the tokenizer and model\n",
    "model_name = 'gpt2'\n",
    "tokenizer = GPT2Tokenizer.from_pretrained(model_name)\n",
    "model = GPT2LMHeadModel.from_pretrained(model_name)"
   ]
  },
  {
   "cell_type": "code",
   "execution_count": 13,
   "id": "76018a4a-6ef8-43aa-b014-6d27190a15ba",
   "metadata": {},
   "outputs": [],
   "source": [
    "# Load the dataset and create DataLoader\n",
    "dataset = TextDataset(tokenizer, \"app/lyrics-data.csv\")\n",
    "data_loader = DataLoader(dataset, batch_size=8, shuffle=True)"
   ]
  },
  {
   "cell_type": "code",
   "execution_count": null,
   "id": "ad989649-0ef3-4cd0-b348-377b7f8a354a",
   "metadata": {},
   "outputs": [],
   "source": []
  }
 ],
 "metadata": {
  "kernelspec": {
   "display_name": "Python 3 (ipykernel)",
   "language": "python",
   "name": "python3"
  },
  "language_info": {
   "codemirror_mode": {
    "name": "ipython",
    "version": 3
   },
   "file_extension": ".py",
   "mimetype": "text/x-python",
   "name": "python",
   "nbconvert_exporter": "python",
   "pygments_lexer": "ipython3",
   "version": "3.9.6"
  }
 },
 "nbformat": 4,
 "nbformat_minor": 5
}
